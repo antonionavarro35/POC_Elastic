{
 "cells": [
  {
   "cell_type": "code",
   "execution_count": 35,
   "metadata": {},
   "outputs": [
    {
     "output_type": "execute_result",
     "data": {
      "text/plain": [
       "'import sys\\nimport json\\nfrom pprint import pprint\\nfrom elasticsearch import Elasticsearch\\nes = Elasticsearch(\\n    [\\'localhost\\'],\\n    port=9200\\n\\n)\\n\\nMyFile= open(\"C:\\\\ElasticSearch\\\\shakespeare_6.0.json\",\\'r\\').read()\\nClearData = MyFile.splitlines(True)\\ni=0\\njson_str=\"\"\\ndocs ={}\\nfor line in ClearData:\\n    line = \\'\\'.join(line.split())\\n    if line != \"},\":\\n        json_str = json_str+line\\n    else:\\n        docs[i]=json_str+\"}\"\\n        json_str=\"\"\\n        print(docs[i])\\n        es.index(index=\\'shakespeare\\', doc_type=\\'Blog\\', id=i, body=docs[i])\\n        i=i+1'"
      ]
     },
     "metadata": {},
     "execution_count": 35
    }
   ],
   "source": [
    "'''import sys\n",
    "import json\n",
    "from pprint import pprint\n",
    "from elasticsearch import Elasticsearch\n",
    "es = Elasticsearch(\n",
    "    ['localhost'],\n",
    "    port=9200\n",
    "\n",
    ")\n",
    "\n",
    "MyFile= open(\"C:\\ElasticSearch\\shakespeare_6.0.json\",'r').read()\n",
    "ClearData = MyFile.splitlines(True)\n",
    "i=0\n",
    "json_str=\"\"\n",
    "docs ={}\n",
    "for line in ClearData:\n",
    "    line = ''.join(line.split())\n",
    "    if line != \"},\":\n",
    "        json_str = json_str+line\n",
    "    else:\n",
    "        docs[i]=json_str+\"}\"\n",
    "        json_str=\"\"\n",
    "        print(docs[i])\n",
    "        es.index(index='shakespeare', doc_type='Blog', id=i, body=docs[i])\n",
    "        i=i+1'''"
   ]
  },
  {
   "cell_type": "code",
   "execution_count": 1,
   "metadata": {},
   "outputs": [],
   "source": [
    "import requests\n",
    "import json\n",
    "import os\n",
    "import warnings\n",
    "from pandas.io.json import json_normalize\n",
    "\n",
    "warnings.filterwarnings('ignore')\n"
   ]
  },
  {
   "cell_type": "code",
   "execution_count": 2,
   "metadata": {},
   "outputs": [],
   "source": [
    "import pandas as pd\n",
    "import numpy as np"
   ]
  },
  {
   "cell_type": "code",
   "execution_count": 3,
   "metadata": {},
   "outputs": [],
   "source": [
    "from elasticsearch import Elasticsearch"
   ]
  },
  {
   "cell_type": "code",
   "execution_count": 4,
   "metadata": {},
   "outputs": [],
   "source": [
    "host='http://localhost'\n",
    "port=9200\n"
   ]
  },
  {
   "cell_type": "code",
   "execution_count": 5,
   "metadata": {},
   "outputs": [],
   "source": [
    "es = Elasticsearch([host], port=port)"
   ]
  },
  {
   "cell_type": "code",
   "execution_count": 7,
   "metadata": {},
   "outputs": [],
   "source": [
    "res=es.get(index='books', id=1)"
   ]
  },
  {
   "cell_type": "code",
   "execution_count": 13,
   "metadata": {},
   "outputs": [
    {
     "output_type": "execute_result",
     "data": {
      "text/plain": [
       "{'id_publi': 9,\n",
       " 'id': 8296,\n",
       " 'cont_nombre': 'ANEXOS',\n",
       " 'cont_contenido': 'ANEXO 1. HOJA DE CONSENTIMIENTO INFORMADO PARA LA ADE&nbsp; ANEXO 2&nbsp;&nbsp; &nbsp;ANEXO 3. PREVENCIÓN DE INFECCIONES RESPIRATORIASLavado de manos antes de la manipulación del niño.Tirar pañuelos usados.Limpiar los juguetes del niño.Usar habitaciones separadas para el niño y sus hermanos.Evitar contacto con personas afectas de infecciones de vías respiratorias.Evitar las salas de espera de pediatría, llenas de personal con capacidad de transmitir infecciones, especialmente durante los meses de noviembre a marzo.Evitar guarderías y fiestas infantiles.Evitar ambientes con humo.Administrar, cuando esté indicado, el anticuerpo monoclonal antivirus respiratorio sincitial (palivizumab).Administrar, en especial si existe displasia broncopulmonar, la vacuna frente al neumococo (a partir de los 2 meses) y frente a la gripe (a partir de los 6 meses). En el primer semestre de vida es conveniente vacunar de la gripe a los padres y familiares o cuidadores que contacten con el lactante.&nbsp;ANEXO 4. HOJA DE REGISTRO DE ENFERMERÍA DE LA ADE&nbsp;&nbsp;',\n",
       " 'cont-orden': 7,\n",
       " 'cont_estado': 1,\n",
       " 'idnivel1': 40,\n",
       " 'idnivel2': 472,\n",
       " 'idnivel3': 1867,\n",
       " 'cont_autor': None,\n",
       " 'cont_ts': '2013/08/26 10:22:08.000000000',\n",
       " 'cont_idioma_original': 'ES',\n",
       " 'id_1': 9,\n",
       " 'nombre': 'Siglo XXI',\n",
       " 'nombre_largo': 'Siglo XXI',\n",
       " 'tipo': '2',\n",
       " 'id_2': 9,\n",
       " 'id_publi_1': 31,\n",
       " 'estado': '1',\n",
       " 'titulo': '2019',\n",
       " 'anyo': 2019,\n",
       " 'id_numero': 9,\n",
       " 'ts': '2019/10/07 12:16:40.000000000',\n",
       " 'pdf': None,\n",
       " 'id_publi_2': 9,\n",
       " 'palabra': 'cardiopatía isquémica, infarto agudo de miocardio (IAM), infarto agudo de miocardio, cardiopatía, angina de pecho, mortalidad, miocardio, calidad, riesgo, angina, corazón, Enfermedad vascular periférica, Cardiopatía reumática, déficit de oxígeno, enfermedad cerebrovascular, Enfermedad cardiovascular, Muerte súbita, sistema circulatorio, Infarto de miocardio, hemorragia cerebral, isquemia cerebral, encéfalo, cardiovascular, oxígeno, prevalencia, morbilidad, invalidez, funcional, cerebral, cerebelo, cerebro, tronco, sangre, cancer, trasplante, discriminación, inmunología, dolor, renal, calidad, Organización Nacional de Trasplantes (ONT), páncreas, corazón, hígado, pulmón, potenciales, trasplante, asistolia, receptor, tabaco, cancer, cardiopatía isquémica, infarto agudo de miocardio (IAM), educación para la salud, prevención secundaria, infarto agudo de miocardio, prevención primaria, rehabilitación, hipertensión, hipercolesterolemia, cardiopatía, prevención, calidad de vida, angina de pecho, mortalidad, miocardio, calidad, riesgo, angina, cardiopatía isquémica, infarto agudo de miocardio (IAM), educación para la salud, prevención secundaria, infarto agudo de miocardio, prevención primaria, rehabilitación, hipertensión, hipercolesterolemia, cardiopatía, prevención, calidad de vida, angina de pecho, cancer, mortalidad, miocardio, calidad, riesgo, tabaco, angina, Organización Nacional de Trasplantes (ONT), páncreas, corazón, hígado, pulmón, potenciales, trasplante, asistolia, receptor, calidad, discriminación, inmunología, cancer, trasplante, dolor, renal, Enfermedad vascular periférica, Cardiopatía reumática, cardiopatía isquémica, cardiopatía isquémica, infarto agudo de miocardio (IAM), déficit de oxígeno, infarto agudo de miocardio, enfermedad cerebrovascular, Enfermedad cardiovascular, Muerte súbita, sistema circulatorio, Infarto de miocardio, hemorragia cerebral, cardiopatía, cardiopatía, isquemia cerebral, angina de pecho, encéfalo, cardiovascular, oxígeno, corazón, prevalencia, morbilidad, mortalidad, miocardio, invalidez, funcional, cerebral, cerebelo, cerebro, calidad, tronco, riesgo, sangre, angina'}"
      ]
     },
     "metadata": {},
     "execution_count": 13
    }
   ],
   "source": [
    "res['_source']"
   ]
  },
  {
   "cell_type": "code",
   "execution_count": 89,
   "metadata": {},
   "outputs": [
    {
     "output_type": "execute_result",
     "data": {
      "text/plain": [
       "dict"
      ]
     },
     "metadata": {},
     "execution_count": 89
    }
   ],
   "source": [
    "body={'id_publi': 9,\n",
    " 'id': 8296,\n",
    " 'cont_nombre': 'ANEXOS',\n",
    " 'cont_contenido': 'ANEXO 1. HOJA DE CONSENTIMIENTO INFORMADO PARA LA ADE&nbsp; ANEXO 2&nbsp;&nbsp; &nbsp;ANEXO 3. PREVENCIÓN DE INFECCIONES RESPIRATORIASLavado de manos antes de la manipulación del niño.Tirar pañuelos usados.Limpiar los juguetes del niño.Usar habitaciones separadas para el niño y sus hermanos.Evitar contacto con personas afectas de infecciones de vías respiratorias.Evitar las salas de espera de pediatría, llenas de personal con capacidad de transmitir infecciones, especialmente durante los meses de noviembre a marzo.Evitar guarderías y fiestas infantiles.Evitar ambientes con humo.Administrar, cuando esté indicado, el anticuerpo monoclonal antivirus respiratorio sincitial (palivizumab).Administrar, en especial si existe displasia broncopulmonar, la vacuna frente al neumococo (a partir de los 2 meses) y frente a la gripe (a partir de los 6 meses). En el primer semestre de vida es conveniente vacunar de la gripe a los padres y familiares o cuidadores que contacten con el lactante.&nbsp;ANEXO 4. HOJA DE REGISTRO DE ENFERMERÍA DE LA ADE&nbsp;&nbsp;',\n",
    " 'cont-orden': 7,\n",
    " 'cont_estado': 1,\n",
    " 'idnivel1': 40,\n",
    " 'idnivel2': 472,\n",
    " 'idnivel3': 1867,\n",
    " 'cont_autor': None,\n",
    " 'cont_ts': '2013/08/26 10:22:08.000000000',\n",
    " 'cont_idioma_original': 'ES',\n",
    " 'id_1': 9,\n",
    " 'nombre': 'Siglo XXI',\n",
    " 'nombre_largo': 'Siglo XXI',\n",
    " 'tipo': '2',\n",
    " 'id_2': 9,\n",
    " 'id_publi_1': 31,\n",
    " 'estado': '1',\n",
    " 'titulo': '2019',\n",
    " 'anyo': 2019,\n",
    " 'id_numero': 9,\n",
    " 'ts': '2019/10/07 12:16:40.000000000',\n",
    " 'pdf': None,\n",
    " 'id_publi_2': 9,\n",
    " 'palabra': 'cardiopatía isquémica, infarto agudo de miocardio (IAM), infarto agudo de miocardio, cardiopatía, angina de pecho, mortalidad, miocardio, calidad, riesgo, angina, corazón, Enfermedad vascular periférica, Cardiopatía reumática, déficit de oxígeno, enfermedad cerebrovascular, Enfermedad cardiovascular, Muerte súbita, sistema circulatorio, Infarto de miocardio, hemorragia cerebral, isquemia cerebral, encéfalo, cardiovascular, oxígeno, prevalencia, morbilidad, invalidez, funcional, cerebral, cerebelo, cerebro, tronco, sangre, cancer, trasplante, discriminación, inmunología, dolor, renal, calidad, Organización Nacional de Trasplantes (ONT), páncreas, corazón, hígado, pulmón, potenciales, trasplante, asistolia, receptor, tabaco, cancer, cardiopatía isquémica, infarto agudo de miocardio (IAM), educación para la salud, prevención secundaria, infarto agudo de miocardio, prevención primaria, rehabilitación, hipertensión, hipercolesterolemia, cardiopatía, prevención, calidad de vida, angina de pecho, mortalidad, miocardio, calidad, riesgo, angina, cardiopatía isquémica, infarto agudo de miocardio (IAM), educación para la salud, prevención secundaria, infarto agudo de miocardio, prevención primaria, rehabilitación, hipertensión, hipercolesterolemia, cardiopatía, prevención, calidad de vida, angina de pecho, cancer, mortalidad, miocardio, calidad, riesgo, tabaco, angina, Organización Nacional de Trasplantes (ONT), páncreas, corazón, hígado, pulmón, potenciales, trasplante, asistolia, receptor, calidad, discriminación, inmunología, cancer, trasplante, dolor, renal, Enfermedad vascular periférica, Cardiopatía reumática, cardiopatía isquémica, cardiopatía isquémica, infarto agudo de miocardio (IAM), déficit de oxígeno, infarto agudo de miocardio, enfermedad cerebrovascular, Enfermedad cardiovascular, Muerte súbita, sistema circulatorio, Infarto de miocardio, hemorragia cerebral, cardiopatía, cardiopatía, isquemia cerebral, angina de pecho, encéfalo, cardiovascular, oxígeno, corazón, prevalencia, morbilidad, mortalidad, miocardio, invalidez, funcional, cerebral, cerebelo, cerebro, calidad, tronco, riesgo, sangre, angina'}\n",
    "\n",
    "type(body)"
   ]
  },
  {
   "cell_type": "code",
   "execution_count": 16,
   "metadata": {},
   "outputs": [],
   "source": [
    "res=es.index(index='prueba5', id=1, body=body)"
   ]
  },
  {
   "cell_type": "code",
   "execution_count": 109,
   "metadata": {},
   "outputs": [],
   "source": [
    "myFile=open('libro_1.json','r', encoding='utf=').read()"
   ]
  },
  {
   "cell_type": "code",
   "execution_count": 110,
   "metadata": {
    "tags": []
   },
   "outputs": [],
   "source": [
    "splitFile=myFile.splitlines()\n"
   ]
  },
  {
   "cell_type": "code",
   "execution_count": 112,
   "metadata": {},
   "outputs": [
    {
     "output_type": "execute_result",
     "data": {
      "text/plain": [
       "'{\"index\":{\"_id\": 20362}}'"
      ]
     },
     "metadata": {},
     "execution_count": 112
    }
   ],
   "source": [
    "i_json=splitFile[-2]\n",
    "i_json"
   ]
  },
  {
   "cell_type": "code",
   "execution_count": 64,
   "metadata": {},
   "outputs": [
    {
     "output_type": "execute_result",
     "data": {
      "text/plain": [
       "13576"
      ]
     },
     "metadata": {},
     "execution_count": 64
    }
   ],
   "source": [
    "len(splitFile)"
   ]
  },
  {
   "cell_type": "code",
   "execution_count": 34,
   "metadata": {},
   "outputs": [],
   "source": [
    "res=es.index(index='prueba6', id=1, body=i_json)"
   ]
  },
  {
   "cell_type": "code",
   "execution_count": 79,
   "metadata": {},
   "outputs": [
    {
     "output_type": "execute_result",
     "data": {
      "text/plain": [
       "True"
      ]
     },
     "metadata": {},
     "execution_count": 79
    }
   ],
   "source": [
    "isinstance(json.loads(i_json)['index']['_id'], int)"
   ]
  },
  {
   "cell_type": "code",
   "execution_count": 132,
   "metadata": {
    "tags": []
   },
   "outputs": [],
   "source": [
    "def form_json(i_json):\n",
    "        try: return json.loads(i_json)['index']['_id']  #i_json es un str hay quetransformarlo en dict\n",
    "        except: return i_json\n",
    "def index_loader(path):\n",
    "    myFile=open(path,'r', encoding='utf=').read()\n",
    "    splitFile=myFile.splitlines()\n",
    "    ids=[form_json(splitFile[i]) for i in range(0,len(splitFile)) if i%2==0]\n",
    "    data=[form_json(splitFile[i]) for i in range(0,len(splitFile)) if i%2!=0]\n",
    "    for i in range(0, len(ids)):\n",
    "        res=es.index(index='datas', id=ids[i], body=json.loads(data[i]))\n",
    "        if res['_shards']['failed']!=0:\n",
    "            print(res)"
   ]
  },
  {
   "cell_type": "code",
   "execution_count": 133,
   "metadata": {
    "tags": [
     "outputPrepend"
    ]
   },
   "outputs": [
    {
     "output_type": "stream",
     "name": "stdout",
     "text": [
      "shards': {'total': 2, 'successful': 1, 'failed': 0}, '_seq_no': 6677, '_primary_term': 1}\n",
      "{'_index': 'datas', '_type': '_doc', '_id': '20035', '_version': 1, 'result': 'created', '_shards': {'total': 2, 'successful': 1, 'failed': 0}, '_seq_no': 6678, '_primary_term': 1}\n",
      "{'_index': 'datas', '_type': '_doc', '_id': '20038', '_version': 1, 'result': 'created', '_shards': {'total': 2, 'successful': 1, 'failed': 0}, '_seq_no': 6679, '_primary_term': 1}\n",
      "{'_index': 'datas', '_type': '_doc', '_id': '20041', '_version': 1, 'result': 'created', '_shards': {'total': 2, 'successful': 1, 'failed': 0}, '_seq_no': 6680, '_primary_term': 1}\n",
      "{'_index': 'datas', '_type': '_doc', '_id': '20044', '_version': 1, 'result': 'created', '_shards': {'total': 2, 'successful': 1, 'failed': 0}, '_seq_no': 6681, '_primary_term': 1}\n",
      "{'_index': 'datas', '_type': '_doc', '_id': '20047', '_version': 1, 'result': 'created', '_shards': {'total': 2, 'successful': 1, 'failed': 0}, '_seq_no': 6682, '_primary_term': 1}\n",
      "{'_index': 'datas', '_type': '_doc', '_id': '20050', '_version': 1, 'result': 'created', '_shards': {'total': 2, 'successful': 1, 'failed': 0}, '_seq_no': 6683, '_primary_term': 1}\n",
      "{'_index': 'datas', '_type': '_doc', '_id': '20053', '_version': 1, 'result': 'created', '_shards': {'total': 2, 'successful': 1, 'failed': 0}, '_seq_no': 6684, '_primary_term': 1}\n",
      "{'_index': 'datas', '_type': '_doc', '_id': '20056', '_version': 1, 'result': 'created', '_shards': {'total': 2, 'successful': 1, 'failed': 0}, '_seq_no': 6685, '_primary_term': 1}\n",
      "{'_index': 'datas', '_type': '_doc', '_id': '20059', '_version': 1, 'result': 'created', '_shards': {'total': 2, 'successful': 1, 'failed': 0}, '_seq_no': 6686, '_primary_term': 1}\n",
      "{'_index': 'datas', '_type': '_doc', '_id': '20062', '_version': 1, 'result': 'created', '_shards': {'total': 2, 'successful': 1, 'failed': 0}, '_seq_no': 6687, '_primary_term': 1}\n",
      "{'_index': 'datas', '_type': '_doc', '_id': '20065', '_version': 1, 'result': 'created', '_shards': {'total': 2, 'successful': 1, 'failed': 0}, '_seq_no': 6688, '_primary_term': 1}\n",
      "{'_index': 'datas', '_type': '_doc', '_id': '20068', '_version': 1, 'result': 'created', '_shards': {'total': 2, 'successful': 1, 'failed': 0}, '_seq_no': 6689, '_primary_term': 1}\n",
      "{'_index': 'datas', '_type': '_doc', '_id': '20071', '_version': 1, 'result': 'created', '_shards': {'total': 2, 'successful': 1, 'failed': 0}, '_seq_no': 6690, '_primary_term': 1}\n",
      "{'_index': 'datas', '_type': '_doc', '_id': '20074', '_version': 1, 'result': 'created', '_shards': {'total': 2, 'successful': 1, 'failed': 0}, '_seq_no': 6691, '_primary_term': 1}\n",
      "{'_index': 'datas', '_type': '_doc', '_id': '20077', '_version': 1, 'result': 'created', '_shards': {'total': 2, 'successful': 1, 'failed': 0}, '_seq_no': 6692, '_primary_term': 1}\n",
      "{'_index': 'datas', '_type': '_doc', '_id': '20080', '_version': 1, 'result': 'created', '_shards': {'total': 2, 'successful': 1, 'failed': 0}, '_seq_no': 6693, '_primary_term': 1}\n",
      "{'_index': 'datas', '_type': '_doc', '_id': '20083', '_version': 1, 'result': 'created', '_shards': {'total': 2, 'successful': 1, 'failed': 0}, '_seq_no': 6694, '_primary_term': 1}\n",
      "{'_index': 'datas', '_type': '_doc', '_id': '20086', '_version': 1, 'result': 'created', '_shards': {'total': 2, 'successful': 1, 'failed': 0}, '_seq_no': 6695, '_primary_term': 1}\n",
      "{'_index': 'datas', '_type': '_doc', '_id': '20089', '_version': 1, 'result': 'created', '_shards': {'total': 2, 'successful': 1, 'failed': 0}, '_seq_no': 6696, '_primary_term': 1}\n",
      "{'_index': 'datas', '_type': '_doc', '_id': '20092', '_version': 1, 'result': 'created', '_shards': {'total': 2, 'successful': 1, 'failed': 0}, '_seq_no': 6697, '_primary_term': 1}\n",
      "{'_index': 'datas', '_type': '_doc', '_id': '20095', '_version': 1, 'result': 'created', '_shards': {'total': 2, 'successful': 1, 'failed': 0}, '_seq_no': 6698, '_primary_term': 1}\n",
      "{'_index': 'datas', '_type': '_doc', '_id': '20098', '_version': 1, 'result': 'created', '_shards': {'total': 2, 'successful': 1, 'failed': 0}, '_seq_no': 6699, '_primary_term': 1}\n",
      "{'_index': 'datas', '_type': '_doc', '_id': '20101', '_version': 1, 'result': 'created', '_shards': {'total': 2, 'successful': 1, 'failed': 0}, '_seq_no': 6700, '_primary_term': 1}\n",
      "{'_index': 'datas', '_type': '_doc', '_id': '20104', '_version': 1, 'result': 'created', '_shards': {'total': 2, 'successful': 1, 'failed': 0}, '_seq_no': 6701, '_primary_term': 1}\n",
      "{'_index': 'datas', '_type': '_doc', '_id': '20107', '_version': 1, 'result': 'created', '_shards': {'total': 2, 'successful': 1, 'failed': 0}, '_seq_no': 6702, '_primary_term': 1}\n",
      "{'_index': 'datas', '_type': '_doc', '_id': '20110', '_version': 1, 'result': 'created', '_shards': {'total': 2, 'successful': 1, 'failed': 0}, '_seq_no': 6703, '_primary_term': 1}\n",
      "{'_index': 'datas', '_type': '_doc', '_id': '20113', '_version': 1, 'result': 'created', '_shards': {'total': 2, 'successful': 1, 'failed': 0}, '_seq_no': 6704, '_primary_term': 1}\n",
      "{'_index': 'datas', '_type': '_doc', '_id': '20116', '_version': 1, 'result': 'created', '_shards': {'total': 2, 'successful': 1, 'failed': 0}, '_seq_no': 6705, '_primary_term': 1}\n",
      "{'_index': 'datas', '_type': '_doc', '_id': '20119', '_version': 1, 'result': 'created', '_shards': {'total': 2, 'successful': 1, 'failed': 0}, '_seq_no': 6706, '_primary_term': 1}\n",
      "{'_index': 'datas', '_type': '_doc', '_id': '20122', '_version': 1, 'result': 'created', '_shards': {'total': 2, 'successful': 1, 'failed': 0}, '_seq_no': 6707, '_primary_term': 1}\n",
      "{'_index': 'datas', '_type': '_doc', '_id': '20125', '_version': 1, 'result': 'created', '_shards': {'total': 2, 'successful': 1, 'failed': 0}, '_seq_no': 6708, '_primary_term': 1}\n",
      "{'_index': 'datas', '_type': '_doc', '_id': '20128', '_version': 1, 'result': 'created', '_shards': {'total': 2, 'successful': 1, 'failed': 0}, '_seq_no': 6709, '_primary_term': 1}\n",
      "{'_index': 'datas', '_type': '_doc', '_id': '20131', '_version': 1, 'result': 'created', '_shards': {'total': 2, 'successful': 1, 'failed': 0}, '_seq_no': 6710, '_primary_term': 1}\n",
      "{'_index': 'datas', '_type': '_doc', '_id': '20134', '_version': 1, 'result': 'created', '_shards': {'total': 2, 'successful': 1, 'failed': 0}, '_seq_no': 6711, '_primary_term': 1}\n",
      "{'_index': 'datas', '_type': '_doc', '_id': '20137', '_version': 1, 'result': 'created', '_shards': {'total': 2, 'successful': 1, 'failed': 0}, '_seq_no': 6712, '_primary_term': 1}\n",
      "{'_index': 'datas', '_type': '_doc', '_id': '20140', '_version': 1, 'result': 'created', '_shards': {'total': 2, 'successful': 1, 'failed': 0}, '_seq_no': 6713, '_primary_term': 1}\n",
      "{'_index': 'datas', '_type': '_doc', '_id': '20143', '_version': 1, 'result': 'created', '_shards': {'total': 2, 'successful': 1, 'failed': 0}, '_seq_no': 6714, '_primary_term': 1}\n",
      "{'_index': 'datas', '_type': '_doc', '_id': '20146', '_version': 1, 'result': 'created', '_shards': {'total': 2, 'successful': 1, 'failed': 0}, '_seq_no': 6715, '_primary_term': 1}\n",
      "{'_index': 'datas', '_type': '_doc', '_id': '20149', '_version': 1, 'result': 'created', '_shards': {'total': 2, 'successful': 1, 'failed': 0}, '_seq_no': 6716, '_primary_term': 1}\n",
      "{'_index': 'datas', '_type': '_doc', '_id': '20152', '_version': 1, 'result': 'created', '_shards': {'total': 2, 'successful': 1, 'failed': 0}, '_seq_no': 6717, '_primary_term': 1}\n",
      "{'_index': 'datas', '_type': '_doc', '_id': '20155', '_version': 1, 'result': 'created', '_shards': {'total': 2, 'successful': 1, 'failed': 0}, '_seq_no': 6718, '_primary_term': 1}\n",
      "{'_index': 'datas', '_type': '_doc', '_id': '20158', '_version': 1, 'result': 'created', '_shards': {'total': 2, 'successful': 1, 'failed': 0}, '_seq_no': 6719, '_primary_term': 1}\n",
      "{'_index': 'datas', '_type': '_doc', '_id': '20161', '_version': 1, 'result': 'created', '_shards': {'total': 2, 'successful': 1, 'failed': 0}, '_seq_no': 6720, '_primary_term': 1}\n",
      "{'_index': 'datas', '_type': '_doc', '_id': '20164', '_version': 1, 'result': 'created', '_shards': {'total': 2, 'successful': 1, 'failed': 0}, '_seq_no': 6721, '_primary_term': 1}\n",
      "{'_index': 'datas', '_type': '_doc', '_id': '20167', '_version': 1, 'result': 'created', '_shards': {'total': 2, 'successful': 1, 'failed': 0}, '_seq_no': 6722, '_primary_term': 1}\n",
      "{'_index': 'datas', '_type': '_doc', '_id': '20170', '_version': 1, 'result': 'created', '_shards': {'total': 2, 'successful': 1, 'failed': 0}, '_seq_no': 6723, '_primary_term': 1}\n",
      "{'_index': 'datas', '_type': '_doc', '_id': '20173', '_version': 1, 'result': 'created', '_shards': {'total': 2, 'successful': 1, 'failed': 0}, '_seq_no': 6724, '_primary_term': 1}\n",
      "{'_index': 'datas', '_type': '_doc', '_id': '20176', '_version': 1, 'result': 'created', '_shards': {'total': 2, 'successful': 1, 'failed': 0}, '_seq_no': 6725, '_primary_term': 1}\n",
      "{'_index': 'datas', '_type': '_doc', '_id': '20179', '_version': 1, 'result': 'created', '_shards': {'total': 2, 'successful': 1, 'failed': 0}, '_seq_no': 6726, '_primary_term': 1}\n",
      "{'_index': 'datas', '_type': '_doc', '_id': '20182', '_version': 1, 'result': 'created', '_shards': {'total': 2, 'successful': 1, 'failed': 0}, '_seq_no': 6727, '_primary_term': 1}\n",
      "{'_index': 'datas', '_type': '_doc', '_id': '20185', '_version': 1, 'result': 'created', '_shards': {'total': 2, 'successful': 1, 'failed': 0}, '_seq_no': 6728, '_primary_term': 1}\n",
      "{'_index': 'datas', '_type': '_doc', '_id': '20188', '_version': 1, 'result': 'created', '_shards': {'total': 2, 'successful': 1, 'failed': 0}, '_seq_no': 6729, '_primary_term': 1}\n",
      "{'_index': 'datas', '_type': '_doc', '_id': '20191', '_version': 1, 'result': 'created', '_shards': {'total': 2, 'successful': 1, 'failed': 0}, '_seq_no': 6730, '_primary_term': 1}\n",
      "{'_index': 'datas', '_type': '_doc', '_id': '20194', '_version': 1, 'result': 'created', '_shards': {'total': 2, 'successful': 1, 'failed': 0}, '_seq_no': 6731, '_primary_term': 1}\n",
      "{'_index': 'datas', '_type': '_doc', '_id': '20197', '_version': 1, 'result': 'created', '_shards': {'total': 2, 'successful': 1, 'failed': 0}, '_seq_no': 6732, '_primary_term': 1}\n",
      "{'_index': 'datas', '_type': '_doc', '_id': '20200', '_version': 1, 'result': 'created', '_shards': {'total': 2, 'successful': 1, 'failed': 0}, '_seq_no': 6733, '_primary_term': 1}\n",
      "{'_index': 'datas', '_type': '_doc', '_id': '20203', '_version': 1, 'result': 'created', '_shards': {'total': 2, 'successful': 1, 'failed': 0}, '_seq_no': 6734, '_primary_term': 1}\n",
      "{'_index': 'datas', '_type': '_doc', '_id': '20206', '_version': 1, 'result': 'created', '_shards': {'total': 2, 'successful': 1, 'failed': 0}, '_seq_no': 6735, '_primary_term': 1}\n",
      "{'_index': 'datas', '_type': '_doc', '_id': '20209', '_version': 1, 'result': 'created', '_shards': {'total': 2, 'successful': 1, 'failed': 0}, '_seq_no': 6736, '_primary_term': 1}\n",
      "{'_index': 'datas', '_type': '_doc', '_id': '20212', '_version': 1, 'result': 'created', '_shards': {'total': 2, 'successful': 1, 'failed': 0}, '_seq_no': 6737, '_primary_term': 1}\n",
      "{'_index': 'datas', '_type': '_doc', '_id': '20215', '_version': 1, 'result': 'created', '_shards': {'total': 2, 'successful': 1, 'failed': 0}, '_seq_no': 6738, '_primary_term': 1}\n",
      "{'_index': 'datas', '_type': '_doc', '_id': '20218', '_version': 1, 'result': 'created', '_shards': {'total': 2, 'successful': 1, 'failed': 0}, '_seq_no': 6739, '_primary_term': 1}\n",
      "{'_index': 'datas', '_type': '_doc', '_id': '20221', '_version': 1, 'result': 'created', '_shards': {'total': 2, 'successful': 1, 'failed': 0}, '_seq_no': 6740, '_primary_term': 1}\n",
      "{'_index': 'datas', '_type': '_doc', '_id': '20224', '_version': 1, 'result': 'created', '_shards': {'total': 2, 'successful': 1, 'failed': 0}, '_seq_no': 6741, '_primary_term': 1}\n",
      "{'_index': 'datas', '_type': '_doc', '_id': '20227', '_version': 1, 'result': 'created', '_shards': {'total': 2, 'successful': 1, 'failed': 0}, '_seq_no': 6742, '_primary_term': 1}\n",
      "{'_index': 'datas', '_type': '_doc', '_id': '20230', '_version': 1, 'result': 'created', '_shards': {'total': 2, 'successful': 1, 'failed': 0}, '_seq_no': 6743, '_primary_term': 1}\n",
      "{'_index': 'datas', '_type': '_doc', '_id': '20233', '_version': 1, 'result': 'created', '_shards': {'total': 2, 'successful': 1, 'failed': 0}, '_seq_no': 6744, '_primary_term': 1}\n",
      "{'_index': 'datas', '_type': '_doc', '_id': '20236', '_version': 1, 'result': 'created', '_shards': {'total': 2, 'successful': 1, 'failed': 0}, '_seq_no': 6745, '_primary_term': 1}\n",
      "{'_index': 'datas', '_type': '_doc', '_id': '20239', '_version': 1, 'result': 'created', '_shards': {'total': 2, 'successful': 1, 'failed': 0}, '_seq_no': 6746, '_primary_term': 1}\n",
      "{'_index': 'datas', '_type': '_doc', '_id': '20242', '_version': 1, 'result': 'created', '_shards': {'total': 2, 'successful': 1, 'failed': 0}, '_seq_no': 6747, '_primary_term': 1}\n",
      "{'_index': 'datas', '_type': '_doc', '_id': '20245', '_version': 1, 'result': 'created', '_shards': {'total': 2, 'successful': 1, 'failed': 0}, '_seq_no': 6748, '_primary_term': 1}\n",
      "{'_index': 'datas', '_type': '_doc', '_id': '20248', '_version': 1, 'result': 'created', '_shards': {'total': 2, 'successful': 1, 'failed': 0}, '_seq_no': 6749, '_primary_term': 1}\n",
      "{'_index': 'datas', '_type': '_doc', '_id': '20251', '_version': 1, 'result': 'created', '_shards': {'total': 2, 'successful': 1, 'failed': 0}, '_seq_no': 6750, '_primary_term': 1}\n",
      "{'_index': 'datas', '_type': '_doc', '_id': '20254', '_version': 1, 'result': 'created', '_shards': {'total': 2, 'successful': 1, 'failed': 0}, '_seq_no': 6751, '_primary_term': 1}\n",
      "{'_index': 'datas', '_type': '_doc', '_id': '20257', '_version': 1, 'result': 'created', '_shards': {'total': 2, 'successful': 1, 'failed': 0}, '_seq_no': 6752, '_primary_term': 1}\n",
      "{'_index': 'datas', '_type': '_doc', '_id': '20260', '_version': 1, 'result': 'created', '_shards': {'total': 2, 'successful': 1, 'failed': 0}, '_seq_no': 6753, '_primary_term': 1}\n",
      "{'_index': 'datas', '_type': '_doc', '_id': '20263', '_version': 1, 'result': 'created', '_shards': {'total': 2, 'successful': 1, 'failed': 0}, '_seq_no': 6754, '_primary_term': 1}\n",
      "{'_index': 'datas', '_type': '_doc', '_id': '20266', '_version': 1, 'result': 'created', '_shards': {'total': 2, 'successful': 1, 'failed': 0}, '_seq_no': 6755, '_primary_term': 1}\n",
      "{'_index': 'datas', '_type': '_doc', '_id': '20269', '_version': 1, 'result': 'created', '_shards': {'total': 2, 'successful': 1, 'failed': 0}, '_seq_no': 6756, '_primary_term': 1}\n",
      "{'_index': 'datas', '_type': '_doc', '_id': '20272', '_version': 1, 'result': 'created', '_shards': {'total': 2, 'successful': 1, 'failed': 0}, '_seq_no': 6757, '_primary_term': 1}\n",
      "{'_index': 'datas', '_type': '_doc', '_id': '20275', '_version': 1, 'result': 'created', '_shards': {'total': 2, 'successful': 1, 'failed': 0}, '_seq_no': 6758, '_primary_term': 1}\n",
      "{'_index': 'datas', '_type': '_doc', '_id': '20278', '_version': 1, 'result': 'created', '_shards': {'total': 2, 'successful': 1, 'failed': 0}, '_seq_no': 6759, '_primary_term': 1}\n",
      "{'_index': 'datas', '_type': '_doc', '_id': '20281', '_version': 1, 'result': 'created', '_shards': {'total': 2, 'successful': 1, 'failed': 0}, '_seq_no': 6760, '_primary_term': 1}\n",
      "{'_index': 'datas', '_type': '_doc', '_id': '20284', '_version': 1, 'result': 'created', '_shards': {'total': 2, 'successful': 1, 'failed': 0}, '_seq_no': 6761, '_primary_term': 1}\n",
      "{'_index': 'datas', '_type': '_doc', '_id': '20287', '_version': 1, 'result': 'created', '_shards': {'total': 2, 'successful': 1, 'failed': 0}, '_seq_no': 6762, '_primary_term': 1}\n",
      "{'_index': 'datas', '_type': '_doc', '_id': '20290', '_version': 1, 'result': 'created', '_shards': {'total': 2, 'successful': 1, 'failed': 0}, '_seq_no': 6763, '_primary_term': 1}\n",
      "{'_index': 'datas', '_type': '_doc', '_id': '20293', '_version': 1, 'result': 'created', '_shards': {'total': 2, 'successful': 1, 'failed': 0}, '_seq_no': 6764, '_primary_term': 1}\n",
      "{'_index': 'datas', '_type': '_doc', '_id': '20296', '_version': 1, 'result': 'created', '_shards': {'total': 2, 'successful': 1, 'failed': 0}, '_seq_no': 6765, '_primary_term': 1}\n",
      "{'_index': 'datas', '_type': '_doc', '_id': '20299', '_version': 1, 'result': 'created', '_shards': {'total': 2, 'successful': 1, 'failed': 0}, '_seq_no': 6766, '_primary_term': 1}\n",
      "{'_index': 'datas', '_type': '_doc', '_id': '20302', '_version': 1, 'result': 'created', '_shards': {'total': 2, 'successful': 1, 'failed': 0}, '_seq_no': 6767, '_primary_term': 1}\n",
      "{'_index': 'datas', '_type': '_doc', '_id': '20305', '_version': 1, 'result': 'created', '_shards': {'total': 2, 'successful': 1, 'failed': 0}, '_seq_no': 6768, '_primary_term': 1}\n",
      "{'_index': 'datas', '_type': '_doc', '_id': '20308', '_version': 1, 'result': 'created', '_shards': {'total': 2, 'successful': 1, 'failed': 0}, '_seq_no': 6769, '_primary_term': 1}\n",
      "{'_index': 'datas', '_type': '_doc', '_id': '20311', '_version': 1, 'result': 'created', '_shards': {'total': 2, 'successful': 1, 'failed': 0}, '_seq_no': 6770, '_primary_term': 1}\n",
      "{'_index': 'datas', '_type': '_doc', '_id': '20314', '_version': 1, 'result': 'created', '_shards': {'total': 2, 'successful': 1, 'failed': 0}, '_seq_no': 6771, '_primary_term': 1}\n",
      "{'_index': 'datas', '_type': '_doc', '_id': '20317', '_version': 1, 'result': 'created', '_shards': {'total': 2, 'successful': 1, 'failed': 0}, '_seq_no': 6772, '_primary_term': 1}\n",
      "{'_index': 'datas', '_type': '_doc', '_id': '20320', '_version': 1, 'result': 'created', '_shards': {'total': 2, 'successful': 1, 'failed': 0}, '_seq_no': 6773, '_primary_term': 1}\n",
      "{'_index': 'datas', '_type': '_doc', '_id': '20323', '_version': 1, 'result': 'created', '_shards': {'total': 2, 'successful': 1, 'failed': 0}, '_seq_no': 6774, '_primary_term': 1}\n",
      "{'_index': 'datas', '_type': '_doc', '_id': '20326', '_version': 1, 'result': 'created', '_shards': {'total': 2, 'successful': 1, 'failed': 0}, '_seq_no': 6775, '_primary_term': 1}\n",
      "{'_index': 'datas', '_type': '_doc', '_id': '20329', '_version': 1, 'result': 'created', '_shards': {'total': 2, 'successful': 1, 'failed': 0}, '_seq_no': 6776, '_primary_term': 1}\n",
      "{'_index': 'datas', '_type': '_doc', '_id': '20332', '_version': 1, 'result': 'created', '_shards': {'total': 2, 'successful': 1, 'failed': 0}, '_seq_no': 6777, '_primary_term': 1}\n",
      "{'_index': 'datas', '_type': '_doc', '_id': '20335', '_version': 1, 'result': 'created', '_shards': {'total': 2, 'successful': 1, 'failed': 0}, '_seq_no': 6778, '_primary_term': 1}\n",
      "{'_index': 'datas', '_type': '_doc', '_id': '20338', '_version': 1, 'result': 'created', '_shards': {'total': 2, 'successful': 1, 'failed': 0}, '_seq_no': 6779, '_primary_term': 1}\n",
      "{'_index': 'datas', '_type': '_doc', '_id': '20341', '_version': 1, 'result': 'created', '_shards': {'total': 2, 'successful': 1, 'failed': 0}, '_seq_no': 6780, '_primary_term': 1}\n",
      "{'_index': 'datas', '_type': '_doc', '_id': '20344', '_version': 1, 'result': 'created', '_shards': {'total': 2, 'successful': 1, 'failed': 0}, '_seq_no': 6781, '_primary_term': 1}\n",
      "{'_index': 'datas', '_type': '_doc', '_id': '20347', '_version': 1, 'result': 'created', '_shards': {'total': 2, 'successful': 1, 'failed': 0}, '_seq_no': 6782, '_primary_term': 1}\n",
      "{'_index': 'datas', '_type': '_doc', '_id': '20350', '_version': 1, 'result': 'created', '_shards': {'total': 2, 'successful': 1, 'failed': 0}, '_seq_no': 6783, '_primary_term': 1}\n",
      "{'_index': 'datas', '_type': '_doc', '_id': '20353', '_version': 1, 'result': 'created', '_shards': {'total': 2, 'successful': 1, 'failed': 0}, '_seq_no': 6784, '_primary_term': 1}\n",
      "{'_index': 'datas', '_type': '_doc', '_id': '20356', '_version': 1, 'result': 'created', '_shards': {'total': 2, 'successful': 1, 'failed': 0}, '_seq_no': 6785, '_primary_term': 1}\n",
      "{'_index': 'datas', '_type': '_doc', '_id': '20359', '_version': 1, 'result': 'created', '_shards': {'total': 2, 'successful': 1, 'failed': 0}, '_seq_no': 6786, '_primary_term': 1}\n",
      "{'_index': 'datas', '_type': '_doc', '_id': '20362', '_version': 1, 'result': 'created', '_shards': {'total': 2, 'successful': 1, 'failed': 0}, '_seq_no': 6787, '_primary_term': 1}\n"
     ]
    }
   ],
   "source": [
    "path='libro_1.json'\n",
    "index_loader(path)"
   ]
  },
  {
   "cell_type": "code",
   "execution_count": null,
   "metadata": {},
   "outputs": [],
   "source": [
    "for i in ids:\n",
    "    res=es.index(index='prueba7', id=ids[i], body=json.loads(isdi+1))"
   ]
  },
  {
   "cell_type": "raw",
   "metadata": {},
   "source": [
    " body=[\"81976618\",\"11829930\"]\n",
    "\n",
    "url='https://f9867c51716d40ee95f8dcf88bdff5f0.europe-west1.gcp.cloud.es.io:9243/'\n",
    "reponse=requests.post(url, data=json.dumps(body))\n",
    "data=reponse.json()\n",
    "#  print(data)\n",
    "liste=[[p[\"productId\"],p[\"logisticUnits\"][0][\"families\"][0][\"conveyable\"]]  for p in data]\n",
    "print (liste)\n",
    "\n"
   ]
  },
  {
   "cell_type": "markdown",
   "metadata": {},
   "source": [
    "Conexion a ElasticSearch, index HERMES"
   ]
  },
  {
   "source": [
    "body={\"query\": {\n",
    "    \"bool\": {\n",
    "      \"must\": [\n",
    "        {\"match\":\n",
    "         {\"deliveryCarrier.carrier_id\": \"9\"}\n",
    "        }\n",
    "      ]\n",
    "    }\n",
    "  }}"
   ],
   "cell_type": "markdown",
   "metadata": {}
  },
  {
   "cell_type": "code",
   "execution_count": 4,
   "metadata": {},
   "outputs": [],
   "source": [
    "body= {\n",
    "         \"query\": {\n",
    "         \"match_all\": {}\n",
    "            }\n",
    "        }"
   ]
  },
  {
   "source": [
    "body={\"query\": {\n",
    "    \"bool\": {\n",
    "      \"must\": [\n",
    "        {\"match\":\n",
    "         {\"deliveryCarrier.carrier_id\": \"9\"}\n",
    "        }\n",
    "      ]\n",
    "    }\n",
    "  }}"
   ],
   "cell_type": "markdown",
   "metadata": {}
  },
  {
   "cell_type": "code",
   "execution_count": 22,
   "metadata": {},
   "outputs": [],
   "source": [
    "first_res = es.search(\n",
    "  index = 'prueba4',\n",
    "  body=body\n",
    "  )"
   ]
  },
  {
   "cell_type": "code",
   "execution_count": 23,
   "metadata": {
    "tags": [
     "outputPrepend"
    ]
   },
   "outputs": [
    {
     "output_type": "stream",
     "name": "stdout",
     "text": [
      "vascular, oxígeno, prevalencia, morbilidad, invalidez, funcional, cerebral, cerebelo, cerebro, tronco, sangre, cancer, trasplante, discriminación, inmunología, dolor, renal, calidad, Organización Nacional de Trasplantes (ONT), páncreas, corazón, hígado, pulmón, potenciales, trasplante, asistolia, receptor, tabaco, cancer, cardiopatía isquémica, infarto agudo de miocardio (IAM), educación para la salud, prevención secundaria, infarto agudo de miocardio, prevención primaria, rehabilitación, hipertensión, hipercolesterolemia, cardiopatía, prevención, calidad de vida, angina de pecho, mortalidad, miocardio, calidad, riesgo, angina, cardiopatía isquémica, infarto agudo de miocardio (IAM), educación para la salud, prevención secundaria, infarto agudo de miocardio, prevención primaria, rehabilitación, hipertensión, hipercolesterolemia, cardiopatía, prevención, calidad de vida, angina de pecho, cancer, mortalidad, miocardio, calidad, riesgo, tabaco, angina, Organización Nacional de Trasplantes (ONT), páncreas, corazón, hígado, pulmón, potenciales, trasplante, asistolia, receptor, calidad, discriminación, inmunología, cancer, trasplante, dolor, renal, Enfermedad vascular periférica, Cardiopatía reumática, cardiopatía isquémica, cardiopatía isquémica, infarto agudo de miocardio (IAM), déficit de oxígeno, infarto agudo de miocardio, enfermedad cerebrovascular, Enfermedad cardiovascular, Muerte súbita, sistema circulatorio, Infarto de miocardio, hemorragia cerebral, cardiopatía, cardiopatía, isquemia cerebral, angina de pecho, encéfalo, cardiovascular, oxígeno, corazón, prevalencia, morbilidad, mortalidad, miocardio, invalidez, funcional, cerebral, cerebelo, cerebro, calidad, tronco, riesgo, sangre, angina'}}, {'_index': 'prueba4', '_type': '_doc', '_id': 'wjKM0nYBLCOM8s5MdAau', '_score': 1.0, '_source': {'id_publi': 9, 'id': 8289, 'cont_nombre': 'LEGISLACIÓN VIGENTE SOBRE TÉCNICAS DE REPRODUCCIÓN ASISTIDA', 'cont_contenido': 'Por su interés para los profesionales enfermeros, se extractan a continuación algunos textos legislativos sobre técnicas de reproducción asistida (TRA).Ley 14/2006, de 26 de mayo, sobre técnicas de reproducción humana asistidaCapítulo III, artículo 11. Crioconservación de gametos y preembrionesEl semen podrá crioconservarse en bancos de gametos autorizados durante la vida del varón de quien procede.La utilización de ovocitos y tejido ovárico crioconservados requerirá previa autorización de la autoridad sanitaria correspondiente.Los preembriones sobrantes de la aplicación de las técnicas de fecundación in vitro que no sean transferidos a la mujer en un ciclo reproductivo podrán ser crioconservados en los bancos autorizados para ello. La crioconservación de los ovocitos, del tejido ovárico y de los preembriones sobrantes se podrá prolongar hasta el momento en que se considere, por parte de los responsables médicos y con el dictamen favorable de especialistas independientes y ajenos al centro correspondiente, que la receptora no reúne los requisitos clínicamente adecuados para la práctica de la técnica de reproducción asistida.Los diferentes destinos posibles que podrán darse a los preembriones crioconservados, así como, en los casos que proceda, al semen, ovocitos y tejido ovárico crioconservados, son:El cese de su conservación sin otra utilización. En el caso de los preembriones y los ovocitos crioconservados, esta última opción sólo será aplicable una vez finalizado el plazo máximo de conservación establecido en esta Ley sin que se haya optado por alguno de los destinos mencionados en los apartados anteriores.Su utilización por la propia mujer o su cónyuge.La donación con fines reproductivos.La donación con fines de investigación.La utilización de los preembriones o, en su caso, del semen, los ovocitos o el tejido ovárico crioconservados, para cualquiera de los fines citados, requerirá el consentimiento informado correspondiente debidamente acreditado. El consentimiento para dar a los preembriones o gametos crioconservados cualquiera de los destinos citados podrá ser modificado en cualquier momento anterior a su aplicación. En el caso de los preembriones, cada dos años, como mínimo, se solicitará de la mujer o de la pareja progenitora la renovación del consentimiento firmado previamente. Si durante dos renovaciones consecutivas fuera imposible obtener de la mujer o de la pareja progenitora la firma del consentimiento correspondiente, los preembriones quedarán a disposición de los centros en los que se encuentren y podrán destinarlos conforme a su criterio a cualquiera de los fines citados, manteniendo las exigencias de confidencialidad, anonimato, la gratuidad y ausencia de ánimo de lucro.Los centros de fecundación in vitro que procedan a la crioconservación de gametos o preembriones humanos de acuerdo con lo establecido en este artículo deberán disponer de un seguro o garantía financiera equivalente que asegure su solvencia, en los términos que se fijen reglamentariamente, para compensar económicamente a las parejas en el supuesto de que se produjera un accidente que afecte a su crioconservación.Ley 14/2007, de 3 de julio, de investigación biomédica (última modificación de 24 de octubre de 2011) &nbsp;Capítulo V. Delitos relativos a la manipulación genética (Código Penal)Artículo 159:Serán castigados con pena de prisión de dos a seis años e inhabilitación especial para empleo o cargo público, profesión u oficio de siete a diez años los que, con finalidad distinta a la eliminación o disminución de taras o enfermedades graves, manipulen genes humanos de manera que se altere el genotipo.Si la alteración del genotipo fuere realizada por imprudencia grave, la pena será de multa de seis a quince meses e inhabilitación especial para empleo o cargo público, profesión u oficio de uno a tres años.Artículo 160:La utilización de la ingeniería genética para producir armas biológicas o exterminadoras de la especie humana será castigada con pena de prisión de tres a siete años e inhabilitación especial para empleo o cargo público, profesión u oficio por tiempo de siete a diez años.Serán castigados con pena de prisión de uno a cinco años e inhabilitación especial para empleo o cargo público, profesión u oficio de seis a diez años quienes fecunden óvulos humanos con cualquier fin distinto a la procreación humana.Con la misma pena se castigará la creación de seres humanos idénticos por clonación u otros procedimientos dirigidos a la selección de la raza.Artículo 161:Quien practicare reproducción asistida en una mujer, sin su consentimiento, será castigado con pena de prisión de dos a seis años e inhabilitación especial para empleo o cargo público, profesión u oficio por tiempo de uno a cuatro años.', 'cont-orden': 7, 'cont_estado': 1, 'idnivel1': 40, 'idnivel2': 471, 'idnivel3': 1866, 'cont_autor': None, 'cont_ts': '2013/08/26 10:22:08.000000000', 'cont_idioma_original': 'ES', 'id_1': 9, 'nombre': 'Siglo XXI', 'nombre_largo': 'Siglo XXI', 'tipo': '2', 'id_2': 9, 'id_publi_1': 31, 'estado': '1', 'titulo': '2019', 'anyo': 2019, 'id_numero': 9, 'ts': '2019/10/07 12:16:40.000000000', 'pdf': None, 'id_publi_2': 9, 'palabra': 'cardiopatía isquémica, infarto agudo de miocardio (IAM), infarto agudo de miocardio, cardiopatía, angina de pecho, mortalidad, miocardio, calidad, riesgo, angina, corazón, Enfermedad vascular periférica, Cardiopatía reumática, déficit de oxígeno, enfermedad cerebrovascular, Enfermedad cardiovascular, Muerte súbita, sistema circulatorio, Infarto de miocardio, hemorragia cerebral, isquemia cerebral, encéfalo, cardiovascular, oxígeno, prevalencia, morbilidad, invalidez, funcional, cerebral, cerebelo, cerebro, tronco, sangre, cancer, trasplante, discriminación, inmunología, dolor, renal, calidad, Organización Nacional de Trasplantes (ONT), páncreas, corazón, hígado, pulmón, potenciales, trasplante, asistolia, receptor, tabaco, cancer, cardiopatía isquémica, infarto agudo de miocardio (IAM), educación para la salud, prevención secundaria, infarto agudo de miocardio, prevención primaria, rehabilitación, hipertensión, hipercolesterolemia, cardiopatía, prevención, calidad de vida, angina de pecho, mortalidad, miocardio, calidad, riesgo, angina, cardiopatía isquémica, infarto agudo de miocardio (IAM), educación para la salud, prevención secundaria, infarto agudo de miocardio, prevención primaria, rehabilitación, hipertensión, hipercolesterolemia, cardiopatía, prevención, calidad de vida, angina de pecho, cancer, mortalidad, miocardio, calidad, riesgo, tabaco, angina, Organización Nacional de Trasplantes (ONT), páncreas, corazón, hígado, pulmón, potenciales, trasplante, asistolia, receptor, calidad, discriminación, inmunología, cancer, trasplante, dolor, renal, Enfermedad vascular periférica, Cardiopatía reumática, cardiopatía isquémica, cardiopatía isquémica, infarto agudo de miocardio (IAM), déficit de oxígeno, infarto agudo de miocardio, enfermedad cerebrovascular, Enfermedad cardiovascular, Muerte súbita, sistema circulatorio, Infarto de miocardio, hemorragia cerebral, cardiopatía, cardiopatía, isquemia cerebral, angina de pecho, encéfalo, cardiovascular, oxígeno, corazón, prevalencia, morbilidad, mortalidad, miocardio, invalidez, funcional, cerebral, cerebelo, cerebro, calidad, tronco, riesgo, sangre, angina'}}, {'_index': 'prueba4', '_type': '_doc', '_id': 'wzKM0nYBLCOM8s5MdAau', '_score': 1.0, '_source': {'id_publi': 9, 'id': 8288, 'cont_nombre': 'TÉCNICAS DE REPRODUCCIÓN ASISTIDA', 'cont_contenido': 'Esquemáticamente, se pueden distinguir las siguientes:Técnicas básicas de RHA:Inseminación artificial conyugal (IAC).Inseminación artificial con semen de donante (IAD).Técnicas avanzadas de RHA: Fecundación in vitro (FIV). Microinyección intracitoplasmática de espermatozoides (ICSI).Técnicas específicas y complementarias:Donación de ovocitos (DO).Laboratorio de alta seguridad biológica (LASB).Diagnóstico genético preimplantatorio (DGPI).Biopsia testicular (BT).Inseminación artificial conyugalConsiste en el depósito de semen de la pareja en la cavidad uterina de la mujer en el momento de la ovulación. La mujer tiene sus ciclos ovulatorios normales y no hay presencia de otra patología femenina. Se recomienda una inseminación por ciclo. Inseminación artificial de donanteTécnica de RHA similar a la anterior, pero realizada con semen de donante. Es más efectiva si se acompaña con estimulación del ovario.La donación de semen es un acto altruista y desinteresado, a pesar de lo cual están contempladas pequeñas compensaciones económicas asumidas en concepto de molestias y desplazamientos. Los criterios de selección y crioconservación de gametos deben respetar los establecidos en la Ley 14/2006, de 26 de mayo.Fecundación in vitro (FIV). Microinyección intracitoplasmática de espermatozoides (ICSI)Esta técnica consiste en la aspiración de ovocitos y la fecundación de óvulos fuera del cuerpo de la mujer, transferidos e implantados en el útero.Se recomienda la FIV:Cuando han fracasado cuatro intentos de IA. Cuando existe un factor masculino severo. Si hay alguna alteración en las trompas que impida una fecundación en las fimbrias.Se considera como límite máximo de oferta de ciclos de tratamiento:Dos ciclos de FIV/ICSI con transferencia embrionaria.Dos ciclos limitados por evidencia de mala reserva folicular o calidad ovocitaria.En cuanto al intervalo entre ciclos de tratamiento consecutivos:Los ciclos se ofertarán en el mínimo tiempo posible.Si existen embriones congelados, no se iniciará una nueva estimulación ovárica.Sobre el número de embriones transferibles, se recomienda realizar transferencias selectivas de dos o un embrión cuando las características de la pareja y de los embriones permitan suponer que existe un elevado riesgo de embarazo múltiple, siguiendo las recomendaciones de las sociedades científicas. Donación de ovocitos Está indicada en mujeres sin función ovárica, por fallo ovárico primario o fallo ovárico prematuro en menores de 40 años.Mujeres con enfermedades hereditarias.Se realizará un número de dos ciclos de tratamiento.La selección, crioconservación, evaluación y manejo de gametos se hará en todo caso de acuerdo a la normativa europea y española vigente.Diagnóstico genético preimplantatorio (DGPI)El diagnóstico genético preimplantatorio consiste en realizar un análisis genético a preembriones obtenidos por técnicas de fecundación in vitro antes de ser transferidos al útero, lo que hace posible seleccionar aquellos preembriones libres de carga genética asociada a determinadas enfermedades.Estaría indicado en pacientes con las siguientes patologías:Atrofia muscular espinal.Distrofia muscular.Enfermedad de Huntington.Fibrosis quística.Hemofilia A.Hemofilia B.Otras enfermedades con herencia recesiva ligada al cromosoma X.Precios orientativos y profesionales que lo realizanLos tratamientos de fertilidad raramente son una prioridad en la agenda de las autoridades responsables de las políticas de salud. La infertilidad puede generar desigualdad. La capacidad de tener hijos no debe depender de los ingresos personales. Para muchas parejas, el coste de los tratamientos avanzados es elevado.La mayoría de los países no reembolsan los tratamientos avanzados de fertilidad. Sólo disponen de cobertura parcial o completa de los tratamientos de reproducción asistida (TRA) los países de Europa occidental, Australia, Israel, Corea y algunos estados de Estados Unidos. En los países con reembolso del TRA, su acceso suele estar limitado en función de la edad de la mujer, el número de niños y el número de intentos de tratamiento.El coste de un ciclo normal de FIV oscila entre el 12% de los ingresos anuales del individuo (Japón) hasta el 50% (Estados Unidos). En los países en desarrollo como China o India, el coste de la FIV puede ser un 50% mayor que el ingreso nacional bruto por habitante. El grado más elevado de utilización y reembolso del TRA se encuentra en los países escandinavos y corresponde a menos del 0,2% del gasto sanitario total.En España, los precios dependen del tipo de técnica empleada y, sobre todo, del número de intentos. La técnica más económica es la inseminación artificial intrauterina, que puede tener un coste de entre 350 y 500 euros por ciclo. En el extremo opuesto, la técnica más cara de reproducción asistida en estos momentos es la microinyección intracitoplasmática de espermatozoides (ICSI), con un coste que oscila entre 3.000 y 6.000 euros por ciclo. Así pues, las diferencias de precio entre técnicas son notables y se individualizará la técnica según la causa de infertilidad y las probabilidades de éxito. Por ejemplo, puede resultar más caro realizar varios ciclos sin éxito usando un procedimiento más barato que realizar un único ciclo más caro pero usando una técnica que sea más eficiente para un problema concreto.Por este motivo, es fundamental que sea un equipo de médicos especialistas el que estudie cuál es el problema y recomiende el método que tenga más probabilidades de conseguir el embarazo. Es importante también informarse en el momento de decidir del coste final del proceso, sumando los gastos adicionales que cada técnica pueda tener. Profesionales que participan en este procesoCualquier profesional de la red nacional de salud, así como la red privada de la misma, es susceptible de captar a los pacientes con problemas en su salud reproductiva.Para tener las mayores probabilidades de éxito es imprescindible la coordinación de una unidad multidisciplinar con los siguientes profesionales (Ver Cuadro 4): Médicos especialistas: ginecólogo, andrólogo. El ginecólogo es el especialista en reproducción asistida cuyo trabajo consiste en diagnosticar, planificar y coordinar el tratamiento más adecuado para los pacientes aplicando distintas técnicas, incluida la cirugía si fuese necesario.Embriólogos. Su labor consiste en realizar el trabajo en el laboratorio de reproducción donde los óvulos o los espermatozoides son tratados para mejorar su capacidad fecundante y donde se cuidan y cultivan los embriones obtenidos para mejorar su capacidad de implantación.Enfermera. Su trabajo consiste en colaborar con el personal médico, así como facilitar información durante los exámenes y el tratamiento.&nbsp;&nbsp; &nbsp;Psicólogo. Es especialista en la atención integral al paciente que afronta un proceso reproductivo; puede llevar a cabo tests de ansiedad y a veces también inventarios de depresión, ya que estas personas que se someten a las técnicas de reproducción asistida pasan por un proceso de pruebas que hacen que la experiencia sea larga y estresante. Facilitan un entrenamiento al paciente mediante técnicas de afrontamiento de estrés y elaboran guías y consejos psicosociales. Abogado. Especialista en los aspectos legales relacionados con la reproducción asistida, encargado de resolver las dudas en este sentido y, si fuera necesario, asesorar legalmente sobre la adopción nacional e internacional.Todos ellos tienen conocimientos específicos propios de la especialidad, así como conocimientos generales, lo que hace que al unir todas estas disciplinas sea posible llevar a cabo de manera óptima el proceso de reproducción asistida.Es deseable la existencia de un único interlocutor en todo el proceso, que explique de una manera clara la situación, los pasos que será necesario seguir y que, a su vez, coordine el resto del equipo. Este papel suele desempeñarlo el ginecólogo del equipo. ', 'cont-orden': 6, 'cont_estado': 1, 'idnivel1': 40, 'idnivel2': 471, 'idnivel3': 1866, 'cont_autor': None, 'cont_ts': '2013/08/26 10:22:08.000000000', 'cont_idioma_original': 'ES', 'id_1': 9, 'nombre': 'Siglo XXI', 'nombre_largo': 'Siglo XXI', 'tipo': '2', 'id_2': 9, 'id_publi_1': 31, 'estado': '1', 'titulo': '2019', 'anyo': 2019, 'id_numero': 9, 'ts': '2019/10/07 12:16:40.000000000', 'pdf': None, 'id_publi_2': 9, 'palabra': 'cardiopatía isquémica, infarto agudo de miocardio (IAM), infarto agudo de miocardio, cardiopatía, angina de pecho, mortalidad, miocardio, calidad, riesgo, angina, corazón, Enfermedad vascular periférica, Cardiopatía reumática, déficit de oxígeno, enfermedad cerebrovascular, Enfermedad cardiovascular, Muerte súbita, sistema circulatorio, Infarto de miocardio, hemorragia cerebral, isquemia cerebral, encéfalo, cardiovascular, oxígeno, prevalencia, morbilidad, invalidez, funcional, cerebral, cerebelo, cerebro, tronco, sangre, cancer, trasplante, discriminación, inmunología, dolor, renal, calidad, Organización Nacional de Trasplantes (ONT), páncreas, corazón, hígado, pulmón, potenciales, trasplante, asistolia, receptor, tabaco, cancer, cardiopatía isquémica, infarto agudo de miocardio (IAM), educación para la salud, prevención secundaria, infarto agudo de miocardio, prevención primaria, rehabilitación, hipertensión, hipercolesterolemia, cardiopatía, prevención, calidad de vida, angina de pecho, mortalidad, miocardio, calidad, riesgo, angina, cardiopatía isquémica, infarto agudo de miocardio (IAM), educación para la salud, prevención secundaria, infarto agudo de miocardio, prevención primaria, rehabilitación, hipertensión, hipercolesterolemia, cardiopatía, prevención, calidad de vida, angina de pecho, cancer, mortalidad, miocardio, calidad, riesgo, tabaco, angina, Organización Nacional de Trasplantes (ONT), páncreas, corazón, hígado, pulmón, potenciales, trasplante, asistolia, receptor, calidad, discriminación, inmunología, cancer, trasplante, dolor, renal, Enfermedad vascular periférica, Cardiopatía reumática, cardiopatía isquémica, cardiopatía isquémica, infarto agudo de miocardio (IAM), déficit de oxígeno, infarto agudo de miocardio, enfermedad cerebrovascular, Enfermedad cardiovascular, Muerte súbita, sistema circulatorio, Infarto de miocardio, hemorragia cerebral, cardiopatía, cardiopatía, isquemia cerebral, angina de pecho, encéfalo, cardiovascular, oxígeno, corazón, prevalencia, morbilidad, mortalidad, miocardio, invalidez, funcional, cerebral, cerebelo, cerebro, calidad, tronco, riesgo, sangre, angina'}}]}\n"
     ]
    }
   ],
   "source": [
    "print(first_res['hits'])"
   ]
  },
  {
   "cell_type": "code",
   "execution_count": 13,
   "metadata": {},
   "outputs": [],
   "source": [
    "#url='http://localhost:9200/hermes-*/shipmentUpdate/_search'\n",
    "url=\"http://localhost:9200/prueba4/_search\""
   ]
  },
  {
   "cell_type": "code",
   "execution_count": 24,
   "metadata": {},
   "outputs": [],
   "source": [
    "reponse=requests.post(url, data=json.dumps(body))"
   ]
  },
  {
   "source": [
    "print(response.text)"
   ],
   "cell_type": "markdown",
   "metadata": {
    "tags": [
     "outputPrepend"
    ]
   }
  },
  {
   "cell_type": "code",
   "execution_count": 17,
   "metadata": {},
   "outputs": [],
   "source": [
    "payload=\"{\\r\\n    \\\"query\\\": {\\r\\n        \\\"match_all\\\": {}\\r\\n    }\\r\\n}\"\n",
    "headers = {\n",
    "  'Content-Type': 'application/json'\n",
    "}"
   ]
  },
  {
   "cell_type": "code",
   "execution_count": 18,
   "metadata": {},
   "outputs": [],
   "source": [
    "response = requests.request(\"GET\", url, headers=headers, data=payload)"
   ]
  },
  {
   "cell_type": "code",
   "execution_count": 24,
   "metadata": {
    "tags": []
   },
   "outputs": [
    {
     "output_type": "error",
     "ename": "NameError",
     "evalue": "name 'response' is not defined",
     "traceback": [
      "\u001b[1;31m---------------------------------------------------------------------------\u001b[0m",
      "\u001b[1;31mNameError\u001b[0m                                 Traceback (most recent call last)",
      "\u001b[1;32m<ipython-input-24-21e4db50d7ee>\u001b[0m in \u001b[0;36m<module>\u001b[1;34m\u001b[0m\n\u001b[1;32m----> 1\u001b[1;33m \u001b[0mprint\u001b[0m\u001b[1;33m(\u001b[0m\u001b[0mresponse\u001b[0m\u001b[1;33m[\u001b[0m\u001b[1;34m'hits'\u001b[0m\u001b[1;33m]\u001b[0m\u001b[1;33m)\u001b[0m\u001b[1;33m\u001b[0m\u001b[1;33m\u001b[0m\u001b[0m\n\u001b[0m",
      "\u001b[1;31mNameError\u001b[0m: name 'response' is not defined"
     ]
    }
   ],
   "source": [
    "print(response['hits'])"
   ]
  },
  {
   "cell_type": "code",
   "execution_count": 21,
   "metadata": {},
   "outputs": [],
   "source": [
    "reponse=requests.post(url, data=json.dumps(body))\n",
    "data=reponse.json()"
   ]
  },
  {
   "cell_type": "code",
   "execution_count": 22,
   "metadata": {},
   "outputs": [
    {
     "output_type": "execute_result",
     "data": {
      "text/plain": [
       "dict"
      ]
     },
     "metadata": {},
     "execution_count": 22
    }
   ],
   "source": [
    "type(data)"
   ]
  },
  {
   "cell_type": "code",
   "execution_count": 23,
   "metadata": {},
   "outputs": [
    {
     "output_type": "execute_result",
     "data": {
      "text/plain": [
       "{'error': 'Content-Type header [] is not supported', 'status': 406}"
      ]
     },
     "metadata": {},
     "execution_count": 23
    }
   ],
   "source": [
    "data"
   ]
  },
  {
   "cell_type": "code",
   "execution_count": 12,
   "metadata": {},
   "outputs": [],
   "source": [
    "df=json_normalize(data['hits']['hits'])"
   ]
  },
  {
   "cell_type": "code",
   "execution_count": 13,
   "metadata": {},
   "outputs": [
    {
     "data": {
      "text/html": [
       "<div>\n",
       "<style scoped>\n",
       "    .dataframe tbody tr th:only-of-type {\n",
       "        vertical-align: middle;\n",
       "    }\n",
       "\n",
       "    .dataframe tbody tr th {\n",
       "        vertical-align: top;\n",
       "    }\n",
       "\n",
       "    .dataframe thead th {\n",
       "        text-align: right;\n",
       "    }\n",
       "</style>\n",
       "<table border=\"1\" class=\"dataframe\">\n",
       "  <thead>\n",
       "    <tr style=\"text-align: right;\">\n",
       "      <th></th>\n",
       "      <th>_index</th>\n",
       "      <th>_type</th>\n",
       "      <th>_id</th>\n",
       "      <th>_score</th>\n",
       "      <th>_source.storeCode</th>\n",
       "      <th>_source.businessUnitCode</th>\n",
       "      <th>_source.customerOrderCode</th>\n",
       "      <th>_source.orderUpdateDate</th>\n",
       "      <th>_source.shippingPointType</th>\n",
       "      <th>_source.shippingPointCode</th>\n",
       "      <th>...</th>\n",
       "      <th>_source.deliveryCarrier.carrier_name</th>\n",
       "      <th>_source.deliveryCarrier.carrier_address1</th>\n",
       "      <th>_source.deliveryCarrier.carrier_city</th>\n",
       "      <th>_source.deliveryCarrier.carrier_telephone</th>\n",
       "      <th>_source.deliveryCarrier.carrier_email</th>\n",
       "      <th>_source.deliveryCarrier.carrier_telephone2</th>\n",
       "      <th>_source.deliveryCarrier.carrier_contact</th>\n",
       "      <th>_source.shipperCategoryList</th>\n",
       "      <th>_source.carrierServiceLevelList</th>\n",
       "      <th>_source.carrierChoices</th>\n",
       "    </tr>\n",
       "  </thead>\n",
       "  <tbody>\n",
       "    <tr>\n",
       "      <td>0</td>\n",
       "      <td>hermes-2017.03</td>\n",
       "      <td>shipmentUpdate</td>\n",
       "      <td>2017.03.24-021-465902</td>\n",
       "      <td>1.0</td>\n",
       "      <td>021</td>\n",
       "      <td>002</td>\n",
       "      <td>465902</td>\n",
       "      <td>20170324</td>\n",
       "      <td>1</td>\n",
       "      <td>021</td>\n",
       "      <td>...</td>\n",
       "      <td>AZKAR CASTILLA</td>\n",
       "      <td>Sin dirección.</td>\n",
       "      <td>None</td>\n",
       "      <td>None</td>\n",
       "      <td>jesus.barrera@es.dachser.com</td>\n",
       "      <td>None</td>\n",
       "      <td>JESUS BARRERA</td>\n",
       "      <td>[{'shipperCategoryCode': '1', 'shipperCategory...</td>\n",
       "      <td>[{'serviceLevelId': '1', 'serviceLevelName': '...</td>\n",
       "      <td>[{'choice': 'Transportistas que cumplen servic...</td>\n",
       "    </tr>\n",
       "    <tr>\n",
       "      <td>1</td>\n",
       "      <td>hermes-2017.03</td>\n",
       "      <td>shipmentUpdate</td>\n",
       "      <td>2017.03.25-021-467180</td>\n",
       "      <td>1.0</td>\n",
       "      <td>021</td>\n",
       "      <td>002</td>\n",
       "      <td>467180</td>\n",
       "      <td>20170325</td>\n",
       "      <td>1</td>\n",
       "      <td>021</td>\n",
       "      <td>...</td>\n",
       "      <td>AZKAR CASTILLA</td>\n",
       "      <td>Sin dirección.</td>\n",
       "      <td>None</td>\n",
       "      <td>None</td>\n",
       "      <td>jesus.barrera@es.dachser.com</td>\n",
       "      <td>None</td>\n",
       "      <td>JESUS BARRERA</td>\n",
       "      <td>[{'shipperCategoryCode': '1', 'shipperCategory...</td>\n",
       "      <td>[{'serviceLevelId': '1', 'serviceLevelName': '...</td>\n",
       "      <td>[{'choice': 'Transportistas que cumplen servic...</td>\n",
       "    </tr>\n",
       "    <tr>\n",
       "      <td>2</td>\n",
       "      <td>hermes-2017.03</td>\n",
       "      <td>shipmentUpdate</td>\n",
       "      <td>2017.03.24-021-467403</td>\n",
       "      <td>1.0</td>\n",
       "      <td>021</td>\n",
       "      <td>002</td>\n",
       "      <td>467403</td>\n",
       "      <td>20170324</td>\n",
       "      <td>1</td>\n",
       "      <td>021</td>\n",
       "      <td>...</td>\n",
       "      <td>AZKAR CASTILLA</td>\n",
       "      <td>Sin dirección.</td>\n",
       "      <td>None</td>\n",
       "      <td>None</td>\n",
       "      <td>jesus.barrera@es.dachser.com</td>\n",
       "      <td>None</td>\n",
       "      <td>JESUS BARRERA</td>\n",
       "      <td>[{'shipperCategoryCode': '1', 'shipperCategory...</td>\n",
       "      <td>[{'serviceLevelId': '1', 'serviceLevelName': '...</td>\n",
       "      <td>[{'choice': 'Transportistas que cumplen servic...</td>\n",
       "    </tr>\n",
       "    <tr>\n",
       "      <td>3</td>\n",
       "      <td>hermes-2017.03</td>\n",
       "      <td>shipmentUpdate</td>\n",
       "      <td>2017.03.24-021-467610</td>\n",
       "      <td>1.0</td>\n",
       "      <td>021</td>\n",
       "      <td>002</td>\n",
       "      <td>467610</td>\n",
       "      <td>20170324</td>\n",
       "      <td>3</td>\n",
       "      <td>205032</td>\n",
       "      <td>...</td>\n",
       "      <td>AZKAR CASTILLA</td>\n",
       "      <td>Sin dirección.</td>\n",
       "      <td>None</td>\n",
       "      <td>None</td>\n",
       "      <td>jesus.barrera@es.dachser.com</td>\n",
       "      <td>None</td>\n",
       "      <td>JESUS BARRERA</td>\n",
       "      <td>[{'shipperCategoryCode': '1', 'shipperCategory...</td>\n",
       "      <td>[{'serviceLevelId': '1', 'serviceLevelName': '...</td>\n",
       "      <td>[{'choice': 'Transportistas que cumplen servic...</td>\n",
       "    </tr>\n",
       "    <tr>\n",
       "      <td>4</td>\n",
       "      <td>hermes-2017.03</td>\n",
       "      <td>shipmentUpdate</td>\n",
       "      <td>2017.03.24-021-467714</td>\n",
       "      <td>1.0</td>\n",
       "      <td>021</td>\n",
       "      <td>002</td>\n",
       "      <td>467714</td>\n",
       "      <td>20170324</td>\n",
       "      <td>3</td>\n",
       "      <td>3627</td>\n",
       "      <td>...</td>\n",
       "      <td>AZKAR CASTILLA</td>\n",
       "      <td>Sin dirección.</td>\n",
       "      <td>None</td>\n",
       "      <td>None</td>\n",
       "      <td>jesus.barrera@es.dachser.com</td>\n",
       "      <td>None</td>\n",
       "      <td>JESUS BARRERA</td>\n",
       "      <td>[{'shipperCategoryCode': '1', 'shipperCategory...</td>\n",
       "      <td>[{'serviceLevelId': '1', 'serviceLevelName': '...</td>\n",
       "      <td>[{'choice': 'Transportistas que cumplen servic...</td>\n",
       "    </tr>\n",
       "    <tr>\n",
       "      <td>5</td>\n",
       "      <td>hermes-2017.03</td>\n",
       "      <td>shipmentUpdate</td>\n",
       "      <td>2017.03.25-046-408046</td>\n",
       "      <td>1.0</td>\n",
       "      <td>046</td>\n",
       "      <td>002</td>\n",
       "      <td>408046</td>\n",
       "      <td>20170325</td>\n",
       "      <td>3</td>\n",
       "      <td>3257</td>\n",
       "      <td>...</td>\n",
       "      <td>AZKAR CASTILLA</td>\n",
       "      <td>Sin dirección.</td>\n",
       "      <td>None</td>\n",
       "      <td>None</td>\n",
       "      <td>jesus.barrera@es.dachser.com</td>\n",
       "      <td>None</td>\n",
       "      <td>JESUS BARRERA</td>\n",
       "      <td>[{'shipperCategoryCode': '1', 'shipperCategory...</td>\n",
       "      <td>[{'serviceLevelId': '1', 'serviceLevelName': '...</td>\n",
       "      <td>[{'choice': 'Transportistas que cumplen servic...</td>\n",
       "    </tr>\n",
       "    <tr>\n",
       "      <td>6</td>\n",
       "      <td>hermes-2017.03</td>\n",
       "      <td>shipmentUpdate</td>\n",
       "      <td>2017.03.24-046-409121</td>\n",
       "      <td>1.0</td>\n",
       "      <td>046</td>\n",
       "      <td>002</td>\n",
       "      <td>409121</td>\n",
       "      <td>20170324</td>\n",
       "      <td>1</td>\n",
       "      <td>046</td>\n",
       "      <td>...</td>\n",
       "      <td>AZKAR CASTILLA</td>\n",
       "      <td>Sin dirección.</td>\n",
       "      <td>None</td>\n",
       "      <td>None</td>\n",
       "      <td>jesus.barrera@es.dachser.com</td>\n",
       "      <td>None</td>\n",
       "      <td>JESUS BARRERA</td>\n",
       "      <td>[{'shipperCategoryCode': '1', 'shipperCategory...</td>\n",
       "      <td>[{'serviceLevelId': '1', 'serviceLevelName': '...</td>\n",
       "      <td>[{'choice': 'Transportistas que cumplen servic...</td>\n",
       "    </tr>\n",
       "    <tr>\n",
       "      <td>7</td>\n",
       "      <td>hermes-2017.07</td>\n",
       "      <td>shipmentUpdate</td>\n",
       "      <td>2017.07.26-058-702296</td>\n",
       "      <td>1.0</td>\n",
       "      <td>058</td>\n",
       "      <td>002</td>\n",
       "      <td>702296</td>\n",
       "      <td>20170726</td>\n",
       "      <td>1</td>\n",
       "      <td>058</td>\n",
       "      <td>...</td>\n",
       "      <td>AZKAR CASTILLA</td>\n",
       "      <td>Sin dirección.</td>\n",
       "      <td>None</td>\n",
       "      <td>None</td>\n",
       "      <td>jesus.barrera@es.dachser.com</td>\n",
       "      <td>None</td>\n",
       "      <td>JESUS BARRERA</td>\n",
       "      <td>[{'shipperCategoryCode': '1', 'shipperCategory...</td>\n",
       "      <td>[{'serviceLevelId': '1', 'serviceLevelName': '...</td>\n",
       "      <td>[{'choice': 'Transportistas que cumplen servic...</td>\n",
       "    </tr>\n",
       "    <tr>\n",
       "      <td>8</td>\n",
       "      <td>hermes-2017.07</td>\n",
       "      <td>shipmentUpdate</td>\n",
       "      <td>2017.07.28-058-702296</td>\n",
       "      <td>1.0</td>\n",
       "      <td>058</td>\n",
       "      <td>002</td>\n",
       "      <td>702296</td>\n",
       "      <td>20170728</td>\n",
       "      <td>1</td>\n",
       "      <td>058</td>\n",
       "      <td>...</td>\n",
       "      <td>AZKAR CASTILLA</td>\n",
       "      <td>Sin dirección.</td>\n",
       "      <td>None</td>\n",
       "      <td>None</td>\n",
       "      <td>jesus.barrera@es.dachser.com</td>\n",
       "      <td>None</td>\n",
       "      <td>JESUS BARRERA</td>\n",
       "      <td>[{'shipperCategoryCode': '1', 'shipperCategory...</td>\n",
       "      <td>[{'serviceLevelId': '1', 'serviceLevelName': '...</td>\n",
       "      <td>[{'choice': 'Transportistas que cumplen servic...</td>\n",
       "    </tr>\n",
       "    <tr>\n",
       "      <td>9</td>\n",
       "      <td>hermes-2017.08</td>\n",
       "      <td>shipmentUpdate</td>\n",
       "      <td>2017.08.04-058-703440</td>\n",
       "      <td>1.0</td>\n",
       "      <td>058</td>\n",
       "      <td>002</td>\n",
       "      <td>703440</td>\n",
       "      <td>20170804</td>\n",
       "      <td>1</td>\n",
       "      <td>058</td>\n",
       "      <td>...</td>\n",
       "      <td>AZKAR CASTILLA</td>\n",
       "      <td>Sin dirección.</td>\n",
       "      <td>None</td>\n",
       "      <td>None</td>\n",
       "      <td>jesus.barrera@es.dachser.com</td>\n",
       "      <td>None</td>\n",
       "      <td>JESUS BARRERA</td>\n",
       "      <td>[{'shipperCategoryCode': '1', 'shipperCategory...</td>\n",
       "      <td>[{'serviceLevelId': '1', 'serviceLevelName': '...</td>\n",
       "      <td>[{'choice': 'Transportistas que cumplen servic...</td>\n",
       "    </tr>\n",
       "  </tbody>\n",
       "</table>\n",
       "<p>10 rows × 36 columns</p>\n",
       "</div>"
      ],
      "text/plain": [
       "           _index           _type                    _id  _score  \\\n",
       "0  hermes-2017.03  shipmentUpdate  2017.03.24-021-465902     1.0   \n",
       "1  hermes-2017.03  shipmentUpdate  2017.03.25-021-467180     1.0   \n",
       "2  hermes-2017.03  shipmentUpdate  2017.03.24-021-467403     1.0   \n",
       "3  hermes-2017.03  shipmentUpdate  2017.03.24-021-467610     1.0   \n",
       "4  hermes-2017.03  shipmentUpdate  2017.03.24-021-467714     1.0   \n",
       "5  hermes-2017.03  shipmentUpdate  2017.03.25-046-408046     1.0   \n",
       "6  hermes-2017.03  shipmentUpdate  2017.03.24-046-409121     1.0   \n",
       "7  hermes-2017.07  shipmentUpdate  2017.07.26-058-702296     1.0   \n",
       "8  hermes-2017.07  shipmentUpdate  2017.07.28-058-702296     1.0   \n",
       "9  hermes-2017.08  shipmentUpdate  2017.08.04-058-703440     1.0   \n",
       "\n",
       "  _source.storeCode _source.businessUnitCode _source.customerOrderCode  \\\n",
       "0               021                      002                    465902   \n",
       "1               021                      002                    467180   \n",
       "2               021                      002                    467403   \n",
       "3               021                      002                    467610   \n",
       "4               021                      002                    467714   \n",
       "5               046                      002                    408046   \n",
       "6               046                      002                    409121   \n",
       "7               058                      002                    702296   \n",
       "8               058                      002                    702296   \n",
       "9               058                      002                    703440   \n",
       "\n",
       "  _source.orderUpdateDate _source.shippingPointType _source.shippingPointCode  \\\n",
       "0                20170324                         1                       021   \n",
       "1                20170325                         1                       021   \n",
       "2                20170324                         1                       021   \n",
       "3                20170324                         3                    205032   \n",
       "4                20170324                         3                      3627   \n",
       "5                20170325                         3                      3257   \n",
       "6                20170324                         1                       046   \n",
       "7                20170726                         1                       058   \n",
       "8                20170728                         1                       058   \n",
       "9                20170804                         1                       058   \n",
       "\n",
       "   ... _source.deliveryCarrier.carrier_name  \\\n",
       "0  ...                       AZKAR CASTILLA   \n",
       "1  ...                       AZKAR CASTILLA   \n",
       "2  ...                       AZKAR CASTILLA   \n",
       "3  ...                       AZKAR CASTILLA   \n",
       "4  ...                       AZKAR CASTILLA   \n",
       "5  ...                       AZKAR CASTILLA   \n",
       "6  ...                       AZKAR CASTILLA   \n",
       "7  ...                       AZKAR CASTILLA   \n",
       "8  ...                       AZKAR CASTILLA   \n",
       "9  ...                       AZKAR CASTILLA   \n",
       "\n",
       "  _source.deliveryCarrier.carrier_address1  \\\n",
       "0                           Sin dirección.   \n",
       "1                           Sin dirección.   \n",
       "2                           Sin dirección.   \n",
       "3                           Sin dirección.   \n",
       "4                           Sin dirección.   \n",
       "5                           Sin dirección.   \n",
       "6                           Sin dirección.   \n",
       "7                           Sin dirección.   \n",
       "8                           Sin dirección.   \n",
       "9                           Sin dirección.   \n",
       "\n",
       "  _source.deliveryCarrier.carrier_city  \\\n",
       "0                                 None   \n",
       "1                                 None   \n",
       "2                                 None   \n",
       "3                                 None   \n",
       "4                                 None   \n",
       "5                                 None   \n",
       "6                                 None   \n",
       "7                                 None   \n",
       "8                                 None   \n",
       "9                                 None   \n",
       "\n",
       "  _source.deliveryCarrier.carrier_telephone  \\\n",
       "0                                      None   \n",
       "1                                      None   \n",
       "2                                      None   \n",
       "3                                      None   \n",
       "4                                      None   \n",
       "5                                      None   \n",
       "6                                      None   \n",
       "7                                      None   \n",
       "8                                      None   \n",
       "9                                      None   \n",
       "\n",
       "  _source.deliveryCarrier.carrier_email  \\\n",
       "0          jesus.barrera@es.dachser.com   \n",
       "1          jesus.barrera@es.dachser.com   \n",
       "2          jesus.barrera@es.dachser.com   \n",
       "3          jesus.barrera@es.dachser.com   \n",
       "4          jesus.barrera@es.dachser.com   \n",
       "5          jesus.barrera@es.dachser.com   \n",
       "6          jesus.barrera@es.dachser.com   \n",
       "7          jesus.barrera@es.dachser.com   \n",
       "8          jesus.barrera@es.dachser.com   \n",
       "9          jesus.barrera@es.dachser.com   \n",
       "\n",
       "  _source.deliveryCarrier.carrier_telephone2  \\\n",
       "0                                       None   \n",
       "1                                       None   \n",
       "2                                       None   \n",
       "3                                       None   \n",
       "4                                       None   \n",
       "5                                       None   \n",
       "6                                       None   \n",
       "7                                       None   \n",
       "8                                       None   \n",
       "9                                       None   \n",
       "\n",
       "  _source.deliveryCarrier.carrier_contact  \\\n",
       "0                           JESUS BARRERA   \n",
       "1                           JESUS BARRERA   \n",
       "2                           JESUS BARRERA   \n",
       "3                           JESUS BARRERA   \n",
       "4                           JESUS BARRERA   \n",
       "5                           JESUS BARRERA   \n",
       "6                           JESUS BARRERA   \n",
       "7                           JESUS BARRERA   \n",
       "8                           JESUS BARRERA   \n",
       "9                           JESUS BARRERA   \n",
       "\n",
       "                         _source.shipperCategoryList  \\\n",
       "0  [{'shipperCategoryCode': '1', 'shipperCategory...   \n",
       "1  [{'shipperCategoryCode': '1', 'shipperCategory...   \n",
       "2  [{'shipperCategoryCode': '1', 'shipperCategory...   \n",
       "3  [{'shipperCategoryCode': '1', 'shipperCategory...   \n",
       "4  [{'shipperCategoryCode': '1', 'shipperCategory...   \n",
       "5  [{'shipperCategoryCode': '1', 'shipperCategory...   \n",
       "6  [{'shipperCategoryCode': '1', 'shipperCategory...   \n",
       "7  [{'shipperCategoryCode': '1', 'shipperCategory...   \n",
       "8  [{'shipperCategoryCode': '1', 'shipperCategory...   \n",
       "9  [{'shipperCategoryCode': '1', 'shipperCategory...   \n",
       "\n",
       "                     _source.carrierServiceLevelList  \\\n",
       "0  [{'serviceLevelId': '1', 'serviceLevelName': '...   \n",
       "1  [{'serviceLevelId': '1', 'serviceLevelName': '...   \n",
       "2  [{'serviceLevelId': '1', 'serviceLevelName': '...   \n",
       "3  [{'serviceLevelId': '1', 'serviceLevelName': '...   \n",
       "4  [{'serviceLevelId': '1', 'serviceLevelName': '...   \n",
       "5  [{'serviceLevelId': '1', 'serviceLevelName': '...   \n",
       "6  [{'serviceLevelId': '1', 'serviceLevelName': '...   \n",
       "7  [{'serviceLevelId': '1', 'serviceLevelName': '...   \n",
       "8  [{'serviceLevelId': '1', 'serviceLevelName': '...   \n",
       "9  [{'serviceLevelId': '1', 'serviceLevelName': '...   \n",
       "\n",
       "                              _source.carrierChoices  \n",
       "0  [{'choice': 'Transportistas que cumplen servic...  \n",
       "1  [{'choice': 'Transportistas que cumplen servic...  \n",
       "2  [{'choice': 'Transportistas que cumplen servic...  \n",
       "3  [{'choice': 'Transportistas que cumplen servic...  \n",
       "4  [{'choice': 'Transportistas que cumplen servic...  \n",
       "5  [{'choice': 'Transportistas que cumplen servic...  \n",
       "6  [{'choice': 'Transportistas que cumplen servic...  \n",
       "7  [{'choice': 'Transportistas que cumplen servic...  \n",
       "8  [{'choice': 'Transportistas que cumplen servic...  \n",
       "9  [{'choice': 'Transportistas que cumplen servic...  \n",
       "\n",
       "[10 rows x 36 columns]"
      ]
     },
     "execution_count": 13,
     "metadata": {},
     "output_type": "execute_result"
    }
   ],
   "source": [
    "df"
   ]
  },
  {
   "cell_type": "markdown",
   "metadata": {},
   "source": [
    "Solucion para aplanar todos los archivos co FLATTEN"
   ]
  },
  {
   "cell_type": "code",
   "execution_count": 83,
   "metadata": {},
   "outputs": [],
   "source": [
    "from flatten_json import flatten"
   ]
  },
  {
   "cell_type": "code",
   "execution_count": 100,
   "metadata": {},
   "outputs": [],
   "source": [
    "dic=data['hits']['hits']"
   ]
  },
  {
   "cell_type": "code",
   "execution_count": 101,
   "metadata": {},
   "outputs": [],
   "source": [
    "dic_flt=[flatten(i) for i in dic]"
   ]
  },
  {
   "cell_type": "code",
   "execution_count": 105,
   "metadata": {},
   "outputs": [],
   "source": [
    "df_flat=pd.DataFrame(dic_flt)"
   ]
  },
  {
   "cell_type": "code",
   "execution_count": 106,
   "metadata": {},
   "outputs": [
    {
     "data": {
      "text/html": [
       "<div>\n",
       "<style scoped>\n",
       "    .dataframe tbody tr th:only-of-type {\n",
       "        vertical-align: middle;\n",
       "    }\n",
       "\n",
       "    .dataframe tbody tr th {\n",
       "        vertical-align: top;\n",
       "    }\n",
       "\n",
       "    .dataframe thead th {\n",
       "        text-align: right;\n",
       "    }\n",
       "</style>\n",
       "<table border=\"1\" class=\"dataframe\">\n",
       "  <thead>\n",
       "    <tr style=\"text-align: right;\">\n",
       "      <th></th>\n",
       "      <th>_index</th>\n",
       "      <th>_type</th>\n",
       "      <th>_id</th>\n",
       "      <th>_score</th>\n",
       "      <th>_source_storeCode</th>\n",
       "      <th>_source_businessUnitCode</th>\n",
       "      <th>_source_customerOrderCode</th>\n",
       "      <th>_source_orderUpdateDate</th>\n",
       "      <th>_source_shippingPointType</th>\n",
       "      <th>_source_shippingPointCode</th>\n",
       "      <th>...</th>\n",
       "      <th>_source_carrierServiceLevelList_1_serviceLevelName</th>\n",
       "      <th>_source_carrierServiceLevelList_1_serviceLevelDesc</th>\n",
       "      <th>_source_carrierChoices_0_choice</th>\n",
       "      <th>_source_carrierChoices_0_carriersSelected</th>\n",
       "      <th>_source_carrierChoices_1_choice</th>\n",
       "      <th>_source_carrierChoices_1_carriersSelected</th>\n",
       "      <th>_source_carrierChoices_2_choice</th>\n",
       "      <th>_source_carrierChoices_2_carriersSelected</th>\n",
       "      <th>_source_carrierChoices_3_choice</th>\n",
       "      <th>_source_carrierChoices_3_carriersSelected</th>\n",
       "    </tr>\n",
       "  </thead>\n",
       "  <tbody>\n",
       "    <tr>\n",
       "      <td>0</td>\n",
       "      <td>hermes-2017.03</td>\n",
       "      <td>shipmentUpdate</td>\n",
       "      <td>2017.03.24-021-465902</td>\n",
       "      <td>1.0</td>\n",
       "      <td>021</td>\n",
       "      <td>002</td>\n",
       "      <td>465902</td>\n",
       "      <td>20170324</td>\n",
       "      <td>1</td>\n",
       "      <td>021</td>\n",
       "      <td>...</td>\n",
       "      <td>EXPRESS</td>\n",
       "      <td>EXPRESS</td>\n",
       "      <td>Transportistas que cumplen servicios (), categ...</td>\n",
       "      <td>1, 2, 3, 4, 5, 6, 7, 8, 9, 10, 13, 14, 15, 16,...</td>\n",
       "      <td>Trasnportistas seleccionados por punto de expe...</td>\n",
       "      <td></td>\n",
       "      <td>Trasnportistas seleccionados por punto de expe...</td>\n",
       "      <td></td>\n",
       "      <td>Transportista seleccionado por prioridad.</td>\n",
       "      <td>9 - AZKAR CASTILLA</td>\n",
       "    </tr>\n",
       "    <tr>\n",
       "      <td>1</td>\n",
       "      <td>hermes-2017.03</td>\n",
       "      <td>shipmentUpdate</td>\n",
       "      <td>2017.03.25-021-467180</td>\n",
       "      <td>1.0</td>\n",
       "      <td>021</td>\n",
       "      <td>002</td>\n",
       "      <td>467180</td>\n",
       "      <td>20170325</td>\n",
       "      <td>1</td>\n",
       "      <td>021</td>\n",
       "      <td>...</td>\n",
       "      <td>EXPRESS</td>\n",
       "      <td>EXPRESS</td>\n",
       "      <td>Transportistas que cumplen servicios (), categ...</td>\n",
       "      <td>1, 2, 3, 4, 5, 6, 7, 8, 9, 10, 13, 14, 15, 16,...</td>\n",
       "      <td>Trasnportistas seleccionados por punto de expe...</td>\n",
       "      <td></td>\n",
       "      <td>Trasnportistas seleccionados por punto de expe...</td>\n",
       "      <td></td>\n",
       "      <td>Transportista seleccionado por prioridad.</td>\n",
       "      <td>9 - AZKAR CASTILLA</td>\n",
       "    </tr>\n",
       "    <tr>\n",
       "      <td>2</td>\n",
       "      <td>hermes-2017.03</td>\n",
       "      <td>shipmentUpdate</td>\n",
       "      <td>2017.03.24-021-467403</td>\n",
       "      <td>1.0</td>\n",
       "      <td>021</td>\n",
       "      <td>002</td>\n",
       "      <td>467403</td>\n",
       "      <td>20170324</td>\n",
       "      <td>1</td>\n",
       "      <td>021</td>\n",
       "      <td>...</td>\n",
       "      <td>EXPRESS</td>\n",
       "      <td>EXPRESS</td>\n",
       "      <td>Transportistas que cumplen servicios (), categ...</td>\n",
       "      <td>1, 2, 3, 4, 5, 6, 7, 8, 9, 10, 13, 14, 15, 16,...</td>\n",
       "      <td>Trasnportistas seleccionados por punto de expe...</td>\n",
       "      <td></td>\n",
       "      <td>Trasnportistas seleccionados por punto de expe...</td>\n",
       "      <td></td>\n",
       "      <td>Transportista seleccionado por prioridad.</td>\n",
       "      <td>9 - AZKAR CASTILLA</td>\n",
       "    </tr>\n",
       "    <tr>\n",
       "      <td>3</td>\n",
       "      <td>hermes-2017.03</td>\n",
       "      <td>shipmentUpdate</td>\n",
       "      <td>2017.03.24-021-467610</td>\n",
       "      <td>1.0</td>\n",
       "      <td>021</td>\n",
       "      <td>002</td>\n",
       "      <td>467610</td>\n",
       "      <td>20170324</td>\n",
       "      <td>3</td>\n",
       "      <td>205032</td>\n",
       "      <td>...</td>\n",
       "      <td>EXPRESS</td>\n",
       "      <td>EXPRESS</td>\n",
       "      <td>Transportistas que cumplen servicios (), categ...</td>\n",
       "      <td>1, 2, 3, 4, 5, 6, 7, 8, 9, 10, 13, 14, 15, 16,...</td>\n",
       "      <td>Trasnportistas seleccionados por punto de expe...</td>\n",
       "      <td></td>\n",
       "      <td>Trasnportistas seleccionados por punto de expe...</td>\n",
       "      <td></td>\n",
       "      <td>Transportista seleccionado por prioridad.</td>\n",
       "      <td>9 - AZKAR CASTILLA</td>\n",
       "    </tr>\n",
       "    <tr>\n",
       "      <td>4</td>\n",
       "      <td>hermes-2017.03</td>\n",
       "      <td>shipmentUpdate</td>\n",
       "      <td>2017.03.24-021-467714</td>\n",
       "      <td>1.0</td>\n",
       "      <td>021</td>\n",
       "      <td>002</td>\n",
       "      <td>467714</td>\n",
       "      <td>20170324</td>\n",
       "      <td>3</td>\n",
       "      <td>3627</td>\n",
       "      <td>...</td>\n",
       "      <td>EXPRESS</td>\n",
       "      <td>EXPRESS</td>\n",
       "      <td>Transportistas que cumplen servicios (), categ...</td>\n",
       "      <td>1, 2, 3, 4, 5, 6, 7, 8, 9, 10, 13, 14, 15, 16,...</td>\n",
       "      <td>Trasnportistas seleccionados por punto de expe...</td>\n",
       "      <td></td>\n",
       "      <td>Trasnportistas seleccionados por punto de expe...</td>\n",
       "      <td></td>\n",
       "      <td>Transportista seleccionado por prioridad.</td>\n",
       "      <td>9 - AZKAR CASTILLA</td>\n",
       "    </tr>\n",
       "  </tbody>\n",
       "</table>\n",
       "<p>5 rows × 53 columns</p>\n",
       "</div>"
      ],
      "text/plain": [
       "           _index           _type                    _id  _score  \\\n",
       "0  hermes-2017.03  shipmentUpdate  2017.03.24-021-465902     1.0   \n",
       "1  hermes-2017.03  shipmentUpdate  2017.03.25-021-467180     1.0   \n",
       "2  hermes-2017.03  shipmentUpdate  2017.03.24-021-467403     1.0   \n",
       "3  hermes-2017.03  shipmentUpdate  2017.03.24-021-467610     1.0   \n",
       "4  hermes-2017.03  shipmentUpdate  2017.03.24-021-467714     1.0   \n",
       "\n",
       "  _source_storeCode _source_businessUnitCode _source_customerOrderCode  \\\n",
       "0               021                      002                    465902   \n",
       "1               021                      002                    467180   \n",
       "2               021                      002                    467403   \n",
       "3               021                      002                    467610   \n",
       "4               021                      002                    467714   \n",
       "\n",
       "  _source_orderUpdateDate _source_shippingPointType _source_shippingPointCode  \\\n",
       "0                20170324                         1                       021   \n",
       "1                20170325                         1                       021   \n",
       "2                20170324                         1                       021   \n",
       "3                20170324                         3                    205032   \n",
       "4                20170324                         3                      3627   \n",
       "\n",
       "   ... _source_carrierServiceLevelList_1_serviceLevelName  \\\n",
       "0  ...                                            EXPRESS   \n",
       "1  ...                                            EXPRESS   \n",
       "2  ...                                            EXPRESS   \n",
       "3  ...                                            EXPRESS   \n",
       "4  ...                                            EXPRESS   \n",
       "\n",
       "  _source_carrierServiceLevelList_1_serviceLevelDesc  \\\n",
       "0                                            EXPRESS   \n",
       "1                                            EXPRESS   \n",
       "2                                            EXPRESS   \n",
       "3                                            EXPRESS   \n",
       "4                                            EXPRESS   \n",
       "\n",
       "                     _source_carrierChoices_0_choice  \\\n",
       "0  Transportistas que cumplen servicios (), categ...   \n",
       "1  Transportistas que cumplen servicios (), categ...   \n",
       "2  Transportistas que cumplen servicios (), categ...   \n",
       "3  Transportistas que cumplen servicios (), categ...   \n",
       "4  Transportistas que cumplen servicios (), categ...   \n",
       "\n",
       "           _source_carrierChoices_0_carriersSelected  \\\n",
       "0  1, 2, 3, 4, 5, 6, 7, 8, 9, 10, 13, 14, 15, 16,...   \n",
       "1  1, 2, 3, 4, 5, 6, 7, 8, 9, 10, 13, 14, 15, 16,...   \n",
       "2  1, 2, 3, 4, 5, 6, 7, 8, 9, 10, 13, 14, 15, 16,...   \n",
       "3  1, 2, 3, 4, 5, 6, 7, 8, 9, 10, 13, 14, 15, 16,...   \n",
       "4  1, 2, 3, 4, 5, 6, 7, 8, 9, 10, 13, 14, 15, 16,...   \n",
       "\n",
       "                     _source_carrierChoices_1_choice  \\\n",
       "0  Trasnportistas seleccionados por punto de expe...   \n",
       "1  Trasnportistas seleccionados por punto de expe...   \n",
       "2  Trasnportistas seleccionados por punto de expe...   \n",
       "3  Trasnportistas seleccionados por punto de expe...   \n",
       "4  Trasnportistas seleccionados por punto de expe...   \n",
       "\n",
       "  _source_carrierChoices_1_carriersSelected  \\\n",
       "0                                             \n",
       "1                                             \n",
       "2                                             \n",
       "3                                             \n",
       "4                                             \n",
       "\n",
       "                     _source_carrierChoices_2_choice  \\\n",
       "0  Trasnportistas seleccionados por punto de expe...   \n",
       "1  Trasnportistas seleccionados por punto de expe...   \n",
       "2  Trasnportistas seleccionados por punto de expe...   \n",
       "3  Trasnportistas seleccionados por punto de expe...   \n",
       "4  Trasnportistas seleccionados por punto de expe...   \n",
       "\n",
       "  _source_carrierChoices_2_carriersSelected  \\\n",
       "0                                             \n",
       "1                                             \n",
       "2                                             \n",
       "3                                             \n",
       "4                                             \n",
       "\n",
       "             _source_carrierChoices_3_choice  \\\n",
       "0  Transportista seleccionado por prioridad.   \n",
       "1  Transportista seleccionado por prioridad.   \n",
       "2  Transportista seleccionado por prioridad.   \n",
       "3  Transportista seleccionado por prioridad.   \n",
       "4  Transportista seleccionado por prioridad.   \n",
       "\n",
       "  _source_carrierChoices_3_carriersSelected  \n",
       "0                        9 - AZKAR CASTILLA  \n",
       "1                        9 - AZKAR CASTILLA  \n",
       "2                        9 - AZKAR CASTILLA  \n",
       "3                        9 - AZKAR CASTILLA  \n",
       "4                        9 - AZKAR CASTILLA  \n",
       "\n",
       "[5 rows x 53 columns]"
      ]
     },
     "execution_count": 106,
     "metadata": {},
     "output_type": "execute_result"
    }
   ],
   "source": [
    "df_flat.head()"
   ]
  },
  {
   "cell_type": "code",
   "execution_count": 111,
   "metadata": {},
   "outputs": [],
   "source": [
    "df_flat.to_csv('hermes.csv')"
   ]
  },
  {
   "cell_type": "code",
   "execution_count": 112,
   "metadata": {},
   "outputs": [],
   "source": [
    "df_flat.to_excel('hermes.xls')"
   ]
  },
  {
   "cell_type": "markdown",
   "metadata": {},
   "source": [
    "# Elastic de Tracking y servicio web para Tracking"
   ]
  },
  {
   "cell_type": "raw",
   "metadata": {},
   "source": [
    "este es el servicio de tracking:  http://ypeslmasltra:5000/status/016/858933 \n",
    "pero ahí no viene la direccion de entrega. Se usa para sacar estados y fechas\n",
    "\n",
    "Los índices de tracking se encuentran en http://peslmlkelk01:9200 con el nombre de ltrlog-*\n",
    "Por ejemplo, si hacemos una consulta al pedido y tienda del ejemplo del servicio:\n",
    " GET ltrlog-2019.*/_search\n",
    "{\n",
    " \n",
    "    \"query\": {\n",
    "      \"bool\": {\n",
    "        \"filter\": [],\n",
    "        \"should\": [],\n",
    "        \"must\": [{\n",
    "          \"match\": {\n",
    "            \"customerOrder.ns:customerOrderUpdate.ns:customerOrder.ns:customerOrderCode\": \"858933\"\n",
    "          }\n",
    "        },\n",
    "        {\n",
    "          \"match\": {\n",
    "            \"customerOrder.ns:customerOrderUpdate.ns:customerOrder.ns:storeCode\": \"016\"\n",
    "          }\n",
    "        }\n",
    "        ]\n",
    "      }\n",
    "    }\n",
    "  }\n",
    "\n",
    "Obtenemos un documento muy grande del que podemos sacar la deliveryAddress:\n",
    "\"ns:deliveryAddress\": {\n",
    "                  \"ns:companyName\": \"\",\n",
    "                  \"ns:title\": \"1\",\n",
    "                  \"ns:lastName\": \"BUENO ALONSO\",\n",
    "                  \"ns:firstName\": \"PATRICIA\",\n",
    "                  \"ns:line1\": \"C/MONDEJAR Nº2229\",\n",
    "                  \"ns:line2\": \"\",\n",
    "                  \"ns:line3\": \"\",\n",
    "                  \"ns:postalCode\": \"19174\",\n",
    "                  \"ns:townName\": \"TORREJON DEL REY\",\n",
    "                  \"ns:province\": \"GUADALAJARA\",\n",
    "                  \"ns:country\": \"11\",\n",
    "                  \"ns:telephone\": \"636198511\",\n",
    "                  \"ns:email\": \"PATRICIABUENOALONSO@YAHOO.ES\"\n",
    "                }\n",
    "\n",
    "Cualquier duda, lo vemos\n",
    "\n",
    "saludos"
   ]
  },
  {
   "cell_type": "code",
   "execution_count": 24,
   "metadata": {},
   "outputs": [],
   "source": [
    "host1='http://peslmlkelk01'\n",
    "port1=9200"
   ]
  },
  {
   "cell_type": "code",
   "execution_count": 26,
   "metadata": {},
   "outputs": [],
   "source": [
    "host='http://deslmelk01'\n",
    "port=9200\n"
   ]
  },
  {
   "cell_type": "code",
   "execution_count": 39,
   "metadata": {},
   "outputs": [],
   "source": [
    "body={\"query\": {\n",
    "      \"bool\": {\n",
    "        \"filter\": [],\n",
    "        \"should\": [],\n",
    "        \"must\": [{\n",
    "          \"match\": {\n",
    "            \"customerOrder.ns:customerOrderUpdate.ns:customerOrder.ns:customerOrderCode\": \"281496\"\n",
    "          }\n",
    "        },\n",
    "        {\n",
    "          \"match\": {\n",
    "            \"customerOrder.ns:customerOrderUpdate.ns:customerOrder.ns:storeCode\": \"060\"\n",
    "          }\n",
    "        }\n",
    "        ]\n",
    "      }\n",
    "    }\n",
    "  }\n",
    "\n",
    "index=\"ltrlog-2019.*\""
   ]
  },
  {
   "cell_type": "code",
   "execution_count": 69,
   "metadata": {},
   "outputs": [],
   "source": [
    "es = Elasticsearch([host1], port=port1)"
   ]
  },
  {
   "cell_type": "code",
   "execution_count": 70,
   "metadata": {},
   "outputs": [],
   "source": [
    "result=es.search(index=index)"
   ]
  },
  {
   "cell_type": "code",
   "execution_count": 73,
   "metadata": {},
   "outputs": [
    {
     "data": {
      "text/plain": [
       "{'ns:companyName': 'ARINSTAL SC S\\xa0COOP',\n",
       " 'ns:title': '1',\n",
       " 'ns:lastName': 'ACINAS',\n",
       " 'ns:firstName': 'RICARDO',\n",
       " 'ns:line1': 'LLOBREGAT 4',\n",
       " 'ns:line2': '2-3',\n",
       " 'ns:line3': '',\n",
       " 'ns:postalCode': '17600',\n",
       " 'ns:townName': 'FIGUERES',\n",
       " 'ns:province': 'GIRONA',\n",
       " 'ns:country': '11',\n",
       " 'ns:telephone': '607083791',\n",
       " 'ns:email': 'arinstal@gmail.com'}"
      ]
     },
     "execution_count": 73,
     "metadata": {},
     "output_type": "execute_result"
    }
   ],
   "source": [
    "result['hits']['hits'][0]['_source']['customerOrder']['ns:customerOrderUpdate'][\"ns:customerOrder\"]['ns:deliveryAddress']\n"
   ]
  },
  {
   "cell_type": "code",
   "execution_count": 84,
   "metadata": {},
   "outputs": [],
   "source": [
    "dic=result['hits']['hits']"
   ]
  },
  {
   "cell_type": "code",
   "execution_count": 97,
   "metadata": {},
   "outputs": [],
   "source": [
    "dic_flt=[flatten(i) for i in dic]"
   ]
  },
  {
   "cell_type": "code",
   "execution_count": 98,
   "metadata": {},
   "outputs": [],
   "source": [
    "col=['_source_customerOrder_ns:customerOrderUpdate_ns:customerOrder_ns:deliveryAddress_ns:companyName',\n",
    "  '_source_customerOrder_ns:customerOrderUpdate_ns:customerOrder_ns:deliveryAddress_ns:title',\n",
    "  '_source_customerOrder_ns:customerOrderUpdate_ns:customerOrder_ns:deliveryAddress_ns:lastName',\n",
    "  '_source_customerOrder_ns:customerOrderUpdate_ns:customerOrder_ns:deliveryAddress_ns:firstName',\n",
    "  '_source_customerOrder_ns:customerOrderUpdate_ns:customerOrder_ns:deliveryAddress_ns:line1',\n",
    "  '_source_customerOrder_ns:customerOrderUpdate_ns:customerOrder_ns:deliveryAddress_ns:line2',\n",
    "  '_source_customerOrder_ns:customerOrderUpdate_ns:customerOrder_ns:deliveryAddress_ns:line3',\n",
    "  '_source_customerOrder_ns:customerOrderUpdate_ns:customerOrder_ns:deliveryAddress_ns:postalCode',\n",
    "  '_source_customerOrder_ns:customerOrderUpdate_ns:customerOrder_ns:deliveryAddress_ns:townName',\n",
    "  '_source_customerOrder_ns:customerOrderUpdate_ns:customerOrder_ns:deliveryAddress_ns:province',\n",
    "  '_source_customerOrder_ns:customerOrderUpdate_ns:customerOrder_ns:deliveryAddress_ns:country',\n",
    "  '_source_customerOrder_ns:customerOrderUpdate_ns:customerOrder_ns:deliveryAddress_ns:telephone',\n",
    "  '_source_customerOrder_ns:customerOrderUpdate_ns:customerOrder_ns:deliveryAddress_ns:email']"
   ]
  },
  {
   "cell_type": "code",
   "execution_count": 99,
   "metadata": {},
   "outputs": [],
   "source": [
    "df=pd.DataFrame(dic_flt)"
   ]
  },
  {
   "cell_type": "code",
   "execution_count": 103,
   "metadata": {},
   "outputs": [],
   "source": [
    "df1=df[col]"
   ]
  },
  {
   "cell_type": "code",
   "execution_count": 104,
   "metadata": {},
   "outputs": [
    {
     "ename": "AttributeError",
     "evalue": "'Series' object has no attribute 'isnotnull'",
     "output_type": "error",
     "traceback": [
      "\u001b[1;31m---------------------------------------------------------------------------\u001b[0m",
      "\u001b[1;31mAttributeError\u001b[0m                            Traceback (most recent call last)",
      "\u001b[1;32m<ipython-input-104-9313bf618cfb>\u001b[0m in \u001b[0;36m<module>\u001b[1;34m\u001b[0m\n\u001b[1;32m----> 1\u001b[1;33m \u001b[0mdf1\u001b[0m\u001b[1;33m=\u001b[0m\u001b[0mdf1\u001b[0m\u001b[1;33m[\u001b[0m\u001b[0mdf1\u001b[0m\u001b[1;33m[\u001b[0m\u001b[1;34m'_source_customerOrder_ns:customerOrderUpdate_ns:customerOrder_ns:deliveryAddress_ns:postalCode'\u001b[0m\u001b[1;33m]\u001b[0m\u001b[1;33m.\u001b[0m\u001b[0misnotnull\u001b[0m\u001b[1;33m]\u001b[0m\u001b[1;33m\u001b[0m\u001b[1;33m\u001b[0m\u001b[0m\n\u001b[0m",
      "\u001b[1;32m~\\AppData\\Local\\Continuum\\anaconda3\\lib\\site-packages\\pandas\\core\\generic.py\u001b[0m in \u001b[0;36m__getattr__\u001b[1;34m(self, name)\u001b[0m\n\u001b[0;32m   5177\u001b[0m             \u001b[1;32mif\u001b[0m \u001b[0mself\u001b[0m\u001b[1;33m.\u001b[0m\u001b[0m_info_axis\u001b[0m\u001b[1;33m.\u001b[0m\u001b[0m_can_hold_identifiers_and_holds_name\u001b[0m\u001b[1;33m(\u001b[0m\u001b[0mname\u001b[0m\u001b[1;33m)\u001b[0m\u001b[1;33m:\u001b[0m\u001b[1;33m\u001b[0m\u001b[1;33m\u001b[0m\u001b[0m\n\u001b[0;32m   5178\u001b[0m                 \u001b[1;32mreturn\u001b[0m \u001b[0mself\u001b[0m\u001b[1;33m[\u001b[0m\u001b[0mname\u001b[0m\u001b[1;33m]\u001b[0m\u001b[1;33m\u001b[0m\u001b[1;33m\u001b[0m\u001b[0m\n\u001b[1;32m-> 5179\u001b[1;33m             \u001b[1;32mreturn\u001b[0m \u001b[0mobject\u001b[0m\u001b[1;33m.\u001b[0m\u001b[0m__getattribute__\u001b[0m\u001b[1;33m(\u001b[0m\u001b[0mself\u001b[0m\u001b[1;33m,\u001b[0m \u001b[0mname\u001b[0m\u001b[1;33m)\u001b[0m\u001b[1;33m\u001b[0m\u001b[1;33m\u001b[0m\u001b[0m\n\u001b[0m\u001b[0;32m   5180\u001b[0m \u001b[1;33m\u001b[0m\u001b[0m\n\u001b[0;32m   5181\u001b[0m     \u001b[1;32mdef\u001b[0m \u001b[0m__setattr__\u001b[0m\u001b[1;33m(\u001b[0m\u001b[0mself\u001b[0m\u001b[1;33m,\u001b[0m \u001b[0mname\u001b[0m\u001b[1;33m,\u001b[0m \u001b[0mvalue\u001b[0m\u001b[1;33m)\u001b[0m\u001b[1;33m:\u001b[0m\u001b[1;33m\u001b[0m\u001b[1;33m\u001b[0m\u001b[0m\n",
      "\u001b[1;31mAttributeError\u001b[0m: 'Series' object has no attribute 'isnotnull'"
     ]
    }
   ],
   "source": [
    "df1=df1[df1['_source_customerOrder_ns:customerOrderUpdate_ns:customerOrder_ns:deliveryAddress_ns:postalCode'].isnotnull]"
   ]
  },
  {
   "cell_type": "code",
   "execution_count": null,
   "metadata": {},
   "outputs": [],
   "source": []
  }
 ],
 "metadata": {
  "kernelspec": {
   "name": "python3",
   "display_name": "Python 3.7.7 64-bit",
   "metadata": {
    "interpreter": {
     "hash": "cd100b426e2a0dcc76bf87b2e627fe7828fef2664f847da1e87181c07a8b63ea"
    }
   }
  },
  "language_info": {
   "codemirror_mode": {
    "name": "ipython",
    "version": 3
   },
   "file_extension": ".py",
   "mimetype": "text/x-python",
   "name": "python",
   "nbconvert_exporter": "python",
   "pygments_lexer": "ipython3",
   "version": "3.7.7-final"
  }
 },
 "nbformat": 4,
 "nbformat_minor": 4
}